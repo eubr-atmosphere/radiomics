{
 "cells": [
  {
   "cell_type": "markdown",
   "metadata": {},
   "source": [
    "# This is an example to use Keras in parallel using Horovod\n",
    "\n",
    "Known issues:\n",
    "- The nodes should have the same user as the jupyter, as horovod does not use a hostfile and specifying the user before the name does not work. An ATMOSPHERE user should be added to all the nodes with the corresponding .ssh configuration. This has been done manually.\n",
    "- The jupyter has not instantiated properly the LD_LIBRARY_PATH variable. This should be checked for the specific user. User jovyan must be changed by ATMOSPHERE, with the same ssh configuration."
   ]
  },
  {
   "cell_type": "code",
   "execution_count": 181,
   "metadata": {},
   "outputs": [
    {
     "name": "stdout",
     "output_type": "stream",
     "text": [
      "root@clusterworker-0.mpicluster.default.svc.cluster.local\r\n",
      "root@clusterworker-1.mpicluster.default.svc.cluster.local\r\n"
     ]
    }
   ],
   "source": [
    "!cat /mnt/share/vol001/hostfile"
   ]
  },
  {
   "cell_type": "markdown",
   "metadata": {},
   "source": [
    "First, let's test the system using an existing mpitest.c file"
   ]
  },
  {
   "cell_type": "code",
   "execution_count": 182,
   "metadata": {},
   "outputs": [
    {
     "name": "stdout",
     "output_type": "stream",
     "text": [
      "#include <mpi.h>  \r\n",
      "#include <stdio.h>  \r\n",
      "#include <unistd.h>  \r\n",
      "int main(int argc, char **argv) {    \r\n",
      "  int rank;    char hostname[256];    \r\n",
      "  MPI_Init(&argc,&argv);    \r\n",
      "  MPI_Comm_rank(MPI_COMM_WORLD, &rank);   \r\n",
      "  gethostname(hostname,255);    \r\n",
      "  printf(\"Hello world, I am process number: %d on host %s\\n\", rank, hostname);    \r\n",
      "  MPI_Finalize();    \r\n",
      "  return 0;  \r\n",
      "  }\r\n"
     ]
    }
   ],
   "source": [
    "!cat /mnt/share/vol001/mpitest.c"
   ]
  },
  {
   "cell_type": "code",
   "execution_count": 183,
   "metadata": {},
   "outputs": [],
   "source": [
    "!LD_LIBRARY_PATH=/usr/lib/:/usr/local/lib/ mpicc -o /mnt/share/vol001/mpi41test /mnt/share/vol001/mpitest.c"
   ]
  },
  {
   "cell_type": "code",
   "execution_count": 184,
   "metadata": {},
   "outputs": [
    {
     "name": "stdout",
     "output_type": "stream",
     "text": [
      "^C\r\n"
     ]
    }
   ],
   "source": [
    "!LD_LIBRARY_PATH=/usr/lib/:/usr/local/lib/ mpiexec -np 4 --allow-run-as-root --hostfile /mnt/share/vol001/hostfile  /mnt/share/vol001/mpi41test"
   ]
  },
  {
   "cell_type": "markdown",
   "metadata": {},
   "source": [
    "Now, let's run a Keras model"
   ]
  },
  {
   "cell_type": "code",
   "execution_count": 139,
   "metadata": {},
   "outputs": [
    {
     "name": "stdout",
     "output_type": "stream",
     "text": [
      "from __future__ import print_function\r\n",
      "import keras\r\n",
      "from keras.datasets import mnist\r\n",
      "from keras.models import Sequential\r\n",
      "from keras.layers import Dense, Dropout, Flatten\r\n",
      "from keras.layers import Conv2D, MaxPooling2D\r\n",
      "from keras import backend as K\r\n",
      "import math\r\n",
      "import tensorflow as tf\r\n",
      "import horovod.keras as hvd\r\n",
      "\r\n",
      "# Horovod: initialize Horovod.\r\n",
      "hvd.init()\r\n",
      "\r\n",
      "# Horovod: pin GPU to be used to process local rank (one GPU per process)\r\n",
      "config = tf.ConfigProto()\r\n",
      "config.gpu_options.allow_growth = True\r\n",
      "config.gpu_options.visible_device_list = str(hvd.local_rank())\r\n",
      "K.set_session(tf.Session(config=config))\r\n",
      "\r\n",
      "batch_size = 128\r\n",
      "num_classes = 10\r\n",
      "\r\n",
      "# Horovod: adjust number of epochs based on number of GPUs.\r\n",
      "epochs = int(math.ceil(12.0 / hvd.size()))\r\n",
      "\r\n",
      "# Input image dimensions\r\n",
      "img_rows, img_cols = 28, 28\r\n",
      "\r\n",
      "# The data, shuffled and split between train and test sets\r\n",
      "(x_train, y_train), (x_test, y_test) = mnist.load_data()\r\n",
      "\r\n",
      "if K.image_data_format() == 'channels_first':\r\n",
      "    x_train = x_train.reshape(x_train.shape[0], 1, img_rows, img_cols)\r\n",
      "    x_test = x_test.reshape(x_test.shape[0], 1, img_rows, img_cols)\r\n",
      "    input_shape = (1, img_rows, img_cols)\r\n",
      "else:\r\n",
      "    x_train = x_train.reshape(x_train.shape[0], img_rows, img_cols, 1)\r\n",
      "    x_test = x_test.reshape(x_test.shape[0], img_rows, img_cols, 1)\r\n",
      "    input_shape = (img_rows, img_cols, 1)\r\n",
      "\r\n",
      "x_train = x_train.astype('float32')\r\n",
      "x_test = x_test.astype('float32')\r\n",
      "x_train /= 255\r\n",
      "x_test /= 255\r\n",
      "print('x_train shape:', x_train.shape)\r\n",
      "print(x_train.shape[0], 'train samples')\r\n",
      "print(x_test.shape[0], 'test samples')\r\n",
      "\r\n",
      "# Convert class vectors to binary class matrices\r\n",
      "y_train = keras.utils.to_categorical(y_train, num_classes)\r\n",
      "y_test = keras.utils.to_categorical(y_test, num_classes)\r\n",
      "\r\n",
      "model = Sequential()\r\n",
      "model.add(Conv2D(32, kernel_size=(3, 3),\r\n",
      "                 activation='relu',\r\n",
      "                 input_shape=input_shape))\r\n",
      "model.add(Conv2D(64, (3, 3), activation='relu'))\r\n",
      "model.add(MaxPooling2D(pool_size=(2, 2)))\r\n",
      "model.add(Dropout(0.25))\r\n",
      "model.add(Flatten())\r\n",
      "model.add(Dense(128, activation='relu'))\r\n",
      "model.add(Dropout(0.5))\r\n",
      "model.add(Dense(num_classes, activation='softmax'))\r\n",
      "\r\n",
      "# Horovod: adjust learning rate based on number of GPUs.\r\n",
      "opt = keras.optimizers.Adadelta(1.0 * hvd.size())\r\n",
      "\r\n",
      "# Horovod: add Horovod Distributed Optimizer.\r\n",
      "opt = hvd.DistributedOptimizer(opt, compression=hvd.Compression.fp16)\r\n",
      "\r\n",
      "model.compile(loss=keras.losses.categorical_crossentropy,\r\n",
      "              optimizer=opt,\r\n",
      "              metrics=['accuracy'])\r\n",
      "\r\n",
      "callbacks = [\r\n",
      "    # Horovod: broadcast initial variable states from rank 0 to all other processes.\r\n",
      "    # This is necessary to ensure consistent initialization of all workers when\r\n",
      "    # training is started with random weights or restored from a checkpoint.\r\n",
      "    hvd.callbacks.BroadcastGlobalVariablesCallback(0),\r\n",
      "]\r\n",
      "\r\n",
      "# Horovod: save checkpoints only on worker 0 to prevent other workers from corrupting them.\r\n",
      "if hvd.rank() == 0:\r\n",
      "    callbacks.append(keras.callbacks.ModelCheckpoint('/mnt/share/vol001/checkpoint-{epoch}.h5'))\r\n",
      "\r\n",
      "model.fit(x_train, y_train,\r\n",
      "          batch_size=batch_size,\r\n",
      "          callbacks=callbacks,\r\n",
      "          epochs=epochs,\r\n",
      "          verbose=1,\r\n",
      "          validation_data=(x_test, y_test))\r\n",
      "score = model.evaluate(x_test, y_test, verbose=0)\r\n",
      "print('Test loss:', score[0])\r\n",
      "print('Test accuracy:', score[1])\r\n"
     ]
    }
   ],
   "source": [
    "!cat /mnt/share/vol001/keras_mnist.py"
   ]
  },
  {
   "cell_type": "markdown",
   "metadata": {},
   "source": [
    "### Running with 2 processes through horovod"
   ]
  },
  {
   "cell_type": "code",
   "execution_count": 143,
   "metadata": {},
   "outputs": [],
   "source": [
    "import time\n",
    "start = time.time()"
   ]
  },
  {
   "cell_type": "code",
   "execution_count": 144,
   "metadata": {},
   "outputs": [
    {
     "name": "stdout",
     "output_type": "stream",
     "text": [
      "bash: warning: setlocale: LC_ALL: cannot change locale (en_US.UTF-8)\n",
      "bash: warning: setlocale: LC_ALL: cannot change locale (en_US.UTF-8)\n",
      "[1,1]<stderr>:2019-05-28 10:24:46.204268: I tensorflow/core/platform/cpu_feature_guard.cc:141] Your CPU supports instructions that this TensorFlow binary was not compiled to use: AVX2 AVX512F FMA\n",
      "[1,0]<stderr>:2019-05-28 10:24:46.205437: I tensorflow/core/platform/cpu_feature_guard.cc:141] Your CPU supports instructions that this TensorFlow binary was not compiled to use: AVX2 AVX512F FMA\n",
      "[1,1]<stderr>:2019-05-28 10:24:46.424450: I tensorflow/stream_executor/cuda/cuda_gpu_executor.cc:998] successful NUMA node read from SysFS had negative value (-1), but there must be at least one NUMA node, so returning NUMA node zero\n",
      "[1,1]<stderr>:2019-05-28 10:24:46.424905: I tensorflow/compiler/xla/service/service.cc:150] XLA service 0x4c95c70 executing computations on platform CUDA. Devices:\n",
      "[1,1]<stderr>:2019-05-28 10:24:46.424921: I tensorflow/compiler/xla/service/service.cc:158]   StreamExecutor device (0): Tesla V100-PCIE-32GB, Compute Capability 7.0\n",
      "[1,1]<stderr>:2019-05-28 10:24:46.426877: I tensorflow/core/platform/profile_utils/cpu_utils.cc:94] CPU Frequency: 2099975000 Hz\n",
      "[1,1]<stderr>:2019-05-28 10:24:46.426984: I tensorflow/compiler/xla/service/service.cc:150] XLA service 0x4cfe6d0 executing computations on platform Host. Devices:\n",
      "[1,1]<stderr>:2019-05-28 10:24:46.426997: I tensorflow/compiler/xla/service/service.cc:158]   StreamExecutor device (0): <undefined>, <undefined>\n",
      "[1,1]<stderr>:2019-05-28 10:24:46.427310: I tensorflow/core/common_runtime/gpu/gpu_device.cc:1433] Found device 0 with properties: \n",
      "[1,1]<stderr>:name: Tesla V100-PCIE-32GB major: 7 minor: 0 memoryClockRate(GHz): 1.38\n",
      "[1,1]<stderr>:pciBusID: 0000:00:05.0\n",
      "[1,1]<stderr>:totalMemory: 31.72GiB freeMemory: 31.31GiB\n",
      "[1,1]<stderr>:2019-05-28 10:24:46.427325: I tensorflow/core/common_runtime/gpu/gpu_device.cc:1512] Adding visible gpu devices: 0\n",
      "[1,1]<stderr>:2019-05-28 10:24:46.427964: I tensorflow/core/common_runtime/gpu/gpu_device.cc:984] Device interconnect StreamExecutor with strength 1 edge matrix:\n",
      "[1,1]<stderr>:2019-05-28 10:24:46.427981: I tensorflow/core/common_runtime/gpu/gpu_device.cc:990]      0 \n",
      "[1,1]<stderr>:2019-05-28 10:24:46.427987: I tensorflow/core/common_runtime/gpu/gpu_device.cc:1003] 0:   N \n",
      "[1,1]<stderr>:2019-05-28 10:24:46.428265: I tensorflow/core/common_runtime/gpu/gpu_device.cc:1115] Created TensorFlow device (/job:localhost/replica:0/task:0/device:GPU:0 with 30458 MB memory) -> physical GPU (device: 0, name: Tesla V100-PCIE-32GB, pci bus id: 0000:00:05.0, compute capability: 7.0)\n",
      "[1,0]<stderr>:2019-05-28 10:24:46.480043: I tensorflow/stream_executor/cuda/cuda_gpu_executor.cc:998] successful NUMA node read from SysFS had negative value (-1), but there must be at least one NUMA node, so returning NUMA node zero\n",
      "[1,0]<stderr>:2019-05-28 10:24:46.480788: I tensorflow/compiler/xla/service/service.cc:150] XLA service 0x3894c70 executing computations on platform CUDA. Devices:\n",
      "[1,0]<stderr>:2019-05-28 10:24:46.480812: I tensorflow/compiler/xla/service/service.cc:158]   StreamExecutor device (0): Tesla V100-PCIE-32GB, Compute Capability 7.0\n",
      "[1,0]<stderr>:2019-05-28 10:24:46.483420: I tensorflow/core/platform/profile_utils/cpu_utils.cc:94] CPU Frequency: 2099975000 Hz\n",
      "[1,0]<stderr>:2019-05-28 10:24:46.483646: I tensorflow/compiler/xla/service/service.cc:150] XLA service 0x38fd6d0 executing computations on platform Host. Devices:\n",
      "[1,0]<stderr>:2019-05-28 10:24:46.483665: I tensorflow/compiler/xla/service/service.cc:158]   StreamExecutor device (0): <undefined>, <undefined>\n",
      "[1,0]<stderr>:2019-05-28 10:24:46.484051: I tensorflow/core/common_runtime/gpu/gpu_device.cc:1433] Found device 0 with properties: \n",
      "[1,0]<stderr>:name: Tesla V100-PCIE-32GB major: 7 minor: 0 memoryClockRate(GHz): 1.38\n",
      "[1,0]<stderr>:pciBusID: 0000:00:05.0\n",
      "[1,0]<stderr>:totalMemory: 31.72GiB freeMemory: 31.31GiB\n",
      "[1,0]<stderr>:2019-05-28 10:24:46.484065: I tensorflow/core/common_runtime/gpu/gpu_device.cc:1512] Adding visible gpu devices: 0\n",
      "[1,0]<stderr>:2019-05-28 10:24:46.484771: I tensorflow/core/common_runtime/gpu/gpu_device.cc:984] Device interconnect StreamExecutor with strength 1 edge matrix:\n",
      "[1,0]<stderr>:2019-05-28 10:24:46.484781: I tensorflow/core/common_runtime/gpu/gpu_device.cc:990]      0 \n",
      "[1,0]<stderr>:2019-05-28 10:24:46.484787: I tensorflow/core/common_runtime/gpu/gpu_device.cc:1003] 0:   N \n",
      "[1,0]<stderr>:2019-05-28 10:24:46.485085: I tensorflow/core/common_runtime/gpu/gpu_device.cc:1115] Created TensorFlow device (/job:localhost/replica:0/task:0/device:GPU:0 with 30458 MB memory) -> physical GPU (device: 0, name: Tesla V100-PCIE-32GB, pci bus id: 0000:00:05.0, compute capability: 7.0)\n",
      "[1,1]<stdout>:x_train shape: (60000, 28, 28, 1)\n",
      "[1,1]<stdout>:60000 train samples\n",
      "[1,1]<stdout>:10000 test samples\n",
      "[1,1]<stderr>:Using TensorFlow backend.\n",
      "[1,1]<stderr>:WARNING:tensorflow:From /usr/local/lib/python3.6/dist-packages/tensorflow/python/framework/op_def_library.py:263: colocate_with (from tensorflow.python.framework.ops) is deprecated and will be removed in a future version.\n",
      "[1,1]<stderr>:Instructions for updating:\n",
      "[1,1]<stderr>:Colocations handled automatically by placer.\n",
      "[1,1]<stderr>:WARNING:tensorflow:From /usr/local/lib/python3.6/dist-packages/keras/backend/tensorflow_backend.py:3445: calling dropout (from tensorflow.python.ops.nn_ops) with keep_prob is deprecated and will be removed in a future version.\n",
      "[1,1]<stderr>:Instructions for updating:\n",
      "[1,1]<stderr>:Please use `rate` instead of `keep_prob`. Rate should be set to `rate = 1 - keep_prob`.\n",
      "[1,0]<stdout>:x_train shape: (60000, 28, 28, 1)\n",
      "[1,0]<stdout>:60000 train samples\n",
      "[1,0]<stdout>:10000 test samples\n",
      "[1,0]<stderr>:Using TensorFlow backend.\n",
      "[1,0]<stderr>:WARNING:tensorflow:From /usr/local/lib/python3.6/dist-packages/tensorflow/python/framework/op_def_library.py:263: colocate_with (from tensorflow.python.framework.ops) is deprecated and will be removed in a future version.\n",
      "[1,0]<stderr>:Instructions for updating:\n",
      "[1,0]<stderr>:Colocations handled automatically by placer.\n",
      "[1,0]<stderr>:WARNING:tensorflow:From /usr/local/lib/python3.6/dist-packages/keras/backend/tensorflow_backend.py:3445: calling dropout (from tensorflow.python.ops.nn_ops) with keep_prob is deprecated and will be removed in a future version.\n",
      "[1,0]<stderr>:Instructions for updating:\n",
      "[1,0]<stderr>:Please use `rate` instead of `keep_prob`. Rate should be set to `rate = 1 - keep_prob`.\n",
      "[1,1]<stderr>:WARNING:tensorflow:From /usr/local/lib/python3.6/dist-packages/tensorflow/python/ops/math_ops.py:3066: to_int32 (from tensorflow.python.ops.math_ops) is deprecated and will be removed in a future version.\n",
      "[1,1]<stderr>:Instructions for updating:\n",
      "[1,1]<stderr>:Use tf.cast instead.\n",
      "[1,1]<stderr>:WARNING:tensorflow:From /usr/local/lib/python3.6/dist-packages/horovod/tensorflow/__init__.py:81: div (from tensorflow.python.ops.math_ops) is deprecated and will be removed in a future version.\n",
      "[1,1]<stderr>:Instructions for updating:\n",
      "[1,1]<stderr>:Deprecated in favor of operator or tf.math.divide.\n",
      "[1,0]<stderr>:WARNING:tensorflow:From /usr/local/lib/python3.6/dist-packages/tensorflow/python/ops/math_ops.py:3066: to_int32 (from tensorflow.python.ops.math_ops) is deprecated and will be removed in a future version.\n",
      "[1,0]<stderr>:Instructions for updating:\n",
      "[1,0]<stderr>:Use tf.cast instead.\n",
      "[1,1]<stdout>:Train on 60000 samples, validate on 10000 samples\n",
      "[1,0]<stderr>:WARNING:tensorflow:From /usr/local/lib/python3.6/dist-packages/horovod/tensorflow/__init__.py:81: div (from tensorflow.python.ops.math_ops) is deprecated and will be removed in a future version.\n",
      "[1,0]<stderr>:Instructions for updating:\n",
      "[1,0]<stderr>:Deprecated in favor of operator or tf.math.divide.\n",
      "[1,0]<stdout>:Train on 60000 samples, validate on 10000 samples\n",
      "[1,0]<stdout>:Epoch 1/6\n",
      "[1,1]<stdout>:Epoch 1/6\n",
      "[1,1]<stderr>:2019-05-28 10:24:50.541799: I tensorflow/stream_executor/dso_loader.cc:152] successfully opened CUDA library libcublas.so.10.0 locally\n",
      "[1,0]<stderr>:2019-05-28 10:24:50.681612: I tensorflow/stream_executor/dso_loader.cc:152] successfully opened CUDA library libcublas.so.10.0 locally\n",
      "[1,1]<stdout>:60000/60000 [==============================] - 25s 425us/step - loss: 0.1980 - acc: 0.9390 - val_loss: 0.0399 - val_acc: 0.9862===========>.] - ETA: 0s - loss: 0.2006 - acc: 0.9382560672[1,0]<stdout[1,0]<stdout[1,0]<stdout>[1,0]<stdout>[1,0]<stdout>[1,0]<stdout>[1,0]<stdout>[1,0]<stdout>[1,0]<stdout>[1,1]<stdout>[1,0]<stdout>[1,0]<stdout>[1,1]<stdout>[1,0]<stdout>[1,0]<stdout>[1,0]<stdout>[1,0]<stdout>[1,0]<stdout>[1,0]<stdout>[1,0]<stdout>[1,0]<stdout>[1,0]<stdout>[1,1]<stdout>[1,1]<stdout>[1,1]<stdout>[1,0]<stdout>[1,1]<stdout>[1,1]<stdout>[1,0]<stdout>[1,1]<stdout>[1,1]<stdout>[1,0]<stdout>[1,0]<stdout[1,1]<stdout[1,0]<stdout[1,1]<stdout[1,1]<stdout[1,1]<stdout[1,0]<stdout[1,1]<stdout[1,1]<stdout[1,0]<stdout[1,1]<stdout[1,1]<stdout[1,1]<stdout[1,0]<stdout[1,1]<stdout[1,0]<stdout[1,0]<stdout[1,1]<stdout[1,0]<stdout[1,1]<stdout[1,1]<stdout[1,0]<stdout[1,1]<stdout[1,0]<stdout[1,0]<stdout[1,1]<stdout[1,0]<stdout[1,0]<stdout[1,0]<stdout[1,1]<stdout[1,1]<stdout[1,0]<stdout[1,1]<stdout[1,0]<stdout[1,0]<stdout[1,1]<stdout[1,0]<stdout[1,1]<stdout[1,0]<stdout[1,1]<stdout[1,0]<stdout[1,1]<stdout[1,1]<stdout[1,0]<stdout[1,0]<stdout[1,0]<stdout[1,0]<stdout[1,1]<stdout[1,0]<stdout[1,0]<stdout[1,1]<stdout[1,1]<stdout[1,1]<stdout[1,0]<stdout[1,0]<stdout[1,1]<stdout[1,1]<stdout[1,1]<stdout[1,0]<stdout[1,1]<stdout[1,0]<stdout[1,1]<stdout[1,1]<stdout[1,1]<stdout[1,0]<stdout[1,1]<stdout[1,0]<stdout[1,0]<stdout[1,0]<stdout[1,1]<stdout[1,0]<stdout[1,1]<stdout[1,0]<stdout[1,0]<stdout[1,1]<stdout[1,1]<stdout[1,0]<stdout[1,0]<stdout[1,1]<stdout[1,0]<stdout[1,1]<stdout[1,1]<stdout[1,1]<stdout[1,1]<stdout[1,0]<stdout[1,1]<stdout[1,1]<stdout[1,0]<stdout[1,1]<stdout[1,1]<stdout[1,0]<stdout[1,1]<stdout[1,1]<stdout[1,0]<stdout[1,1]<stdout[1,0]<stdout[1,0]<stdout[1,1]<stdout[1,0]<stdout[1,0]<stdout[1,1]<stdout[1,1]<stdout[1,0]<stdout[1,0]<stdout[1,1]<stdout[1,0]<stdout[1,0]<stdout[1,1]<stdout[1,1]<stdout[1,0]<stdout[1,1]<stdout[1,1]<stdout[1,0]<stdout[1,1]<stdout[1,1]<stdout[1,1]<stdout[1,1]<stdout[1,0]<stdout[1,1]<stdout[1,1]<stdout[1,1]<stdout[1,1]<stdout[1,1]<stdout[1,0]<stdout[1,0]<stdout[1,1]<stdout[1,0]<stdout[1,0]<stdout[1,1]<stdout[1,0]<stdout[1,1]<stdout[1,0]<stdout[1,1]<stdout[1,0]<stdout[1,1]<stdout[1,0]<stdout[1,1]<stdout[1,1]<stdout[1,1]<stdout[1,1]<stdout[1,1]<stdout[1,1]<stdout[1,1]<stdout[1,1]<stdout[1,1]<stdout[1,1]<stdout[1,0]<stdout[1,0]<stdout[1,0]<stdout[1,1]<stdout[1,1]<stdout[1,0]<stdout[1,0]<stdout[1,1]<stdout[1,1]<stdout[1,1]<stdout[1,0]<stdout[1,1]<stdout[1,0]<stdout[1,0]<stdout[1,1]<stdout[1,0]<stdout[1,1]<stdout[1,0]<stdout[1,0]<stdout[1,0]<stdout[1,1]<stdout[1,0]<stdout[1,1]<stdout[1,1]<stdout[1,1]<stdout[1,0]<stdout[1,1]<stdout[1,1]<stdout[1,0]<stdout[1,0]<stdout[1,1]<stdout[1,0]<stdout[1,1]<stdout[1,1]<stdout[1,1]<stdout[1,0]<stdout[1,0]<stdout[1,1]<stdout[1,0]<stdout>[1,1]<stdout>[1,1]<stdout>[1,0]<stdout>[1,0]<stdout>[1,1]<stdout>[1,1]<stdout>[1,1]<stdout>[1,1]<stdout>[1,1]<stdout>[1,1]<stdout>[1,1]<stdout>[1,0]<stdout>[1,1]<stdout>[1,1]<stdout>[1,0]<stdout>[1,1]<stdout>[1,1]<stdout>[1,1]<stdout>[1,0]<stdout>[1,1]<stdout>[1,1]<stdout>[1,1]<stdout>[1,0]<stdout>[1,1]<stdout>[1,1]<stdout>[1,0]<stdout>[1,0]<stdout>[1,1]<stdout>[1,0]<stdout>[1,1]<stdout>[1,0]<stdout>[1,0]<stdout>[1,0]<stdout>[1,1]<stdout>[1,0]<stdout>[1,0]<stdout>[1,1]<stdout>[1,0]<stdout>[1,1]<stdout>[1,0]<stdout>[1,1]<stdout>[1,0]<stdout>[1,1]<stdout>[1,1]<stdout>[1,1]<stdout>[1,0]<stdout>[1,1]<stdout>[1,0]<stdout>[1,0]<stdout>[1,0]<stdout>[1,1]<stdout>[1,0]<stdout>[1,1]<stdout>[1,1]<stdout>[1,0]<stdout>[1,0]<stdout>[1,0]<stdout>[1,1]<stdout>[1,0]<stdout>[1,1]<stdout>[1,1]<stdout>[1,1]<stdout>[1,1]<stdout>[1,1]<stdout>[1,1]<stdout>[1,1]<stdout>[1,1]<stdout>[1,0]<stdout>[1,1]<stdout>[1,0]<stdout>[1,0]<stdout>[1,0]<stdout>[1,1]<stdout>[1,0]<stdout>[1,0]<stdout>[1,1]<stdout>[1,0]<stdout>[1,0]<stdout>[1,1]<stdout>[1,0]<stdout>[1,1]<stdout>[1,1]<stdout>[1,1]<stdout>[1,1]<stdout>[1,0]<stdout>[1,1]<stdout>[1,0]<stdout>[1,1]<stdout>[1,0]<stdout>[1,1]<stdout>[1,1]<stdout>[1,0]<stdout>[1,1]<stdout>[1,1]<stdout>[1,0]<stdout>[1,1]<stdout>[1,0]<stdout>[1,1]<stdout>[1,1]<stdout>[1,0]<stdout>[1,0]<stdout>[1,1]<stdout>[1,0]<stdout>[1,0]<stdout>[1,1]<stdout>[1,1]<stdout>[1,0]<stdout>[1,0]<stdout>[1,1]<stdout>[1,0]<stdout>[1,0]<stdout>[1,1]<stdout>[1,1]<stdout>[1,0]<stdout>[1,1]<stdout>[1,0]<stdout>[1,1]<stdout>\n",
      "[1,1]<stdout>:Epoch 2/6\n",
      "[1,0]<stdout>:60000/60000 [==============================] - 25s 425us/step - loss: 0.2013 - acc: 0.9382 - val_loss: 0.0399 - val_acc: 0.9862\n",
      "[1,0]<stdout>:Epoch 2/6\n",
      "[1,0]<stdout>:60000/60000 [==============================] - 21s 349us/step - loss: 0.0604 - acc: 0.9818 - val_loss: 0.0312 - val_acc: 0.9889=========>...] - ETA: 1s - loss: 0.0614 - acc: 0.981401[1,1]<stdoutdout[1,1]<stdout[1,1]<stdout[1,0]<stdout[1,1]<stdout[1,1]<stdout[1,0]<stdout[1,1]<stdout[1,1]<stdout[1,1]<stdout[1,1]<stdout[1,1]<stdout[1,1]<stdout[1,1]<stdout[1,1]<stdout[1,0]<stdout[1,1]<stdout[1,0]<stdout[1,1]<stdout[1,1]<stdout[1,1]<stdout[1,0]<stdout[1,0]<stdout[1,0]<stdout[1,0]<stdout[1,1]<stdout[1,1]<stdout[1,0]<stdout[1,1]<stdout[1,1]<stdout[1,0]<stdout[1,1]<stdout[1,1]<stdout[1,1]<stdout[1,0]<stdout[1,1]<stdout[1,0]<stdout[1,1]<stdout[1,0]<stdout[1,1]<stdout[1,0]<stdout[1,0]<stdout[1,0]<stdout[1,0]<stdout[1,0]<stdout[1,0]<stdout[1,1]<stdout[1,1]<stdout[1,0]<stdout[1,1]<stdout[1,1]<stdout[1,0]<stdout[1,0]<stdout[1,1]<stdout[1,1]<stdout[1,0]<stdout[1,1]<stdout[1,0]<stdout[1,0]<stdout[1,0]<stdout[1,1]<stdout[1,0]<stdout[1,0]<stdout[1,0]<stdout[1,1]<stdout[1,0]<stdout[1,0]<stdout[1,0]<stdout[1,1]<stdout[1,0]<stdout[1,0]<stdout[1,0]<stdout[1,1]<stdout[1,0]<stdout[1,0]<stdout[1,1]<stdout[1,0]<stdout[1,1]<stdout[1,1]<stdout[1,1]<stdout[1,0]<stdout[1,0]<stdout[1,1]<stdout[1,1]<stdout[1,0]<stdout[1,0]<stdout[1,1]<stdout[1,1]<stdout[1,1]<stdout[1,1]<stdout[1,1]<stdout[1,0]<stdout[1,1]<stdout[1,0]<stdout[1,0]<stdout[1,0]<stdout[1,1]<stdout[1,1]<stdout[1,1]<stdout[1,0]<stdout[1,0]<stdout[1,0]<stdout[1,0]<stdout[1,0]<stdout[1,1]<stdout[1,0]<stdout[1,0]<stdout[1,1]<stdout[1,1]<stdout[1,1]<stdout[1,0]<stdout[1,1]<stdout[1,0]<stdout[1,1]<stdout[1,0]<stdout[1,1]<stdout[1,0]<stdout[1,1]<stdout[1,0]<stdout[1,0]<stdout[1,1]<stdout[1,1]<stdout[1,0]<stdout[1,1]<stdout[1,0]<stdout[1,0]<stdout[1,1]<stdout[1,0]<stdout[1,0]<stdout[1,1]<stdout[1,1]<stdout[1,1]<stdout[1,1]<stdout[1,0]<stdout[1,0]<stdout[1,1]<stdout[1,1]<stdout[1,0]<stdout[1,1]<stdout[1,1]<stdout[1,1]<stdout[1,1]<stdout[1,0]<stdout[1,0]<stdout[1,1]<stdout[1,0]<stdout[1,0]<stdout[1,1]<stdout[1,0]<stdout[1,0]<stdout[1,1]<stdout[1,0]<stdout[1,0]<stdout[1,0]<stdout[1,0]<stdout>[1,1]<stdout[1,0]<stdout>[1,0]<stdout>[1,1]<stdout[1,0]<stdout>[1,1]<stdout>[1,1]<stdout>[1,0]<stdout>[1,0]<stdout>[1,0]<stdout>[1,1]<stdout>[1,0]<stdout>[1,0]<stdout>[1,1]<stdout>[1,0]<stdout>[1,1]<stdout>[1,0]<stdout>[1,0]<stdout>[1,1]<stdout>[1,1]<stdout>[1,0]<stdout>[1,0]<stdout>[1,0]<stdout>[1,1]<stdout>[1,0]<stdout>[1,1]<stdout>[1,0]<stdout>[1,0]<stdout>[1,1]<stdout>[1,1]<stdout>[1,1]<stdout>[1,1]<stdout>[1,0]<stdout>[1,0]<stdout>[1,1]<stdout>[1,1]<stdout>[1,1]<stdout>[1,1]<stdout>[1,1]<stdout>[1,0]<stdout>[1,1]<stdout>[1,1]<stdout>[1,1]<stdout>[1,1]<stdout>[1,0]<stdout>[1,0]<stdout>[1,0]<stdout>[1,1]<stdout>[1,0]<stdout>[1,1]<stdout>[1,0]<stdout>[1,1]<stdout>[1,0]<stdout>[1,1]<stdout>[1,0]<stdout>[1,1]<stdout>[1,1]<stdout>[1,0]<stdout>[1,1]<stdout>[1,0]<stdout>[1,1]<stdout>[1,1]<stdout>[1,0]<stdout>[1,1]<stdout>[1,1]<stdout>[1,0]<stdout>[1,1]<stdout>[1,0]<stdout>[1,0]<stdout>[1,1]<stdout>[1,0]<stdout>[1,1]<stdout>[1,0]<stdout>[1,1]<stdout>[1,0]<stdout>[1,1]<stdout>[1,1]<stdout>[1,0]<stdout>[1,0]<stdout>[1,1]<stdout>[1,0]<stdout>[1,0]<stdout>[1,1]<stdout>[1,0]<stdout>[1,1]<stdout>[1,0]<stdout>[1,0]<stdout>[1,0]<stdout>[1,1]<stdout>[1,1]<stdout>[1,0]<stdout>[1,1]<stdout>[1,1]<stdout>[1,0]<stdout>[1,1]<stdout>[1,0]<stdout>[1,1]<stdout>[1,1]<stdout>[1,0]<stdout>[1,0]<stdout>[1,1]<stdout>[1,0]<stdout>[1,0]<stdout>[1,0]<stdout>[1,0]<stdout>[1,1]<stdout>[1,1]<stdout>[1,1]<stdout>[1,1]<stdout>[1,0]<stdout>[1,1]<stdout>[1,0]<stdout>[1,1]<stdout>[1,1]<stdout>[1,1]<stdout>[1,0]<stdout>[1,1]<stdout>[1,1]<stdout>[1,0]<stdout>[1,1]<stdout>[1,0]<stdout>[1,1]<stdout>[1,0]<stdout>[1,0]<stdout>[1,0]<stdout>[1,1]<stdout>[1,0]<stdout>[1,1]<stdout>[1,1]<stdout>[1,0]<stdout>[1,1]<stdout>[1,1]<stdout>[1,1]<stdout>[1,1]<stdout>[1,0]<stdout>[1,0]<stdout>[1,1]<stdout>[1,1]<stdout>[1,1]<stdout>[1,1]<stdout>[1,0]<stdout>[1,0]<stdout>[1,0]<stdout>[1,1]<stdout>[1,0]<stdout>[1,0]<stdout>[1,1]<stdout>[1,0]<stdout>[1,0]<stdout>[1,0]<stdout>\n",
      "[1,1]<stdout>:60000/60000 [==============================] - 21s 357us/step - loss: 0.0612 - acc: 0.9820 - val_loss: 0.0312 - val_acc: 0.9889\n",
      "[1,1]<stdout>:Epoch 3/6\n",
      "[1,0]<stdout>:Epoch 3/6\n",
      "[1,0]<stdout>:60000/60000 [==============================] - 21s 343us/step - loss: 0.0418 - acc: 0.9873 - val_loss: 0.0282 - val_acc: 0.9906=========>...] - ETA: 1s - loss: 0.0416 - acc: 0.987271 [1,1]<stdout[1,1]<stdout[1,1]<stdout[1,1]<stdout[1,0]<stdout[1,1]<stdout[1,0]<stdout[1,1]<stdout[1,1]<stdout[1,0]<stdout[1,1]<stdout[1,0]<stdout[1,1]<stdout[1,1]<stdout[1,0]<stdout[1,0]<stdout[1,1]<stdout[1,1]<stdout[1,0]<stdout[1,1]<stdout[1,0]<stdout[1,0]<stdout[1,0]<stdout[1,1]<stdout[1,0]<stdout[1,0]<stdout[1,1]<stdout[1,1]<stdout[1,0]<stdout[1,1]<stdout[1,1]<stdout[1,1]<stdout[1,1]<stdout[1,1]<stdout[1,0]<stdout[1,1]<stdout[1,1]<stdout[1,0]<stdout[1,1]<stdout[1,0]<stdout[1,1]<stdout[1,0]<stdout[1,0]<stdout[1,1]<stdout[1,1]<stdout[1,1]<stdout[1,0]<stdout[1,1]<stdout[1,1]<stdout[1,1]<stdout[1,0]<stdout[1,1]<stdout[1,0]<stdout[1,0]<stdout[1,0]<stdout[1,0]<stdout[1,1]<stdout[1,0]<stdout[1,0]<stdout[1,1]<stdout[1,0]<stdout[1,1]<stdout[1,1]<stdout[1,1]<stdout[1,1]<stdout[1,0]<stdout[1,1]<stdout[1,1]<stdout[1,1]<stdout[1,0]<stdout[1,0]<stdout[1,1]<stdout[1,1]<stdout[1,0]<stdout[1,1]<stdout[1,0]<stdout[1,0]<stdout[1,1]<stdout[1,0]<stdout[1,1]<stdout[1,1]<stdout[1,0]<stdout[1,0]<stdout[1,0]<stdout[1,0]<stdout[1,0]<stdout[1,1]<stdout[1,1]<stdout[1,1]<stdout[1,1]<stdout[1,0]<stdout[1,1]<stdout[1,1]<stdout[1,0]<stdout[1,0]<stdout[1,0]<stdout[1,0]<stdout[1,1]<stdout[1,1]<stdout[1,0]<stdout[1,1]<stdout[1,0]<stdout[1,1]<stdout[1,0]<stdout[1,0]<stdout[1,0]<stdout[1,1]<stdout[1,0]<stdout[1,0]<stdout[1,0]<stdout[1,1]<stdout[1,0]<stdout[1,1]<stdout[1,1]<stdout[1,0]<stdout[1,0]<stdout[1,1]<stdout[1,1]<stdout[1,1]<stdout[1,1]<stdout[1,1]<stdout[1,1]<stdout[1,1]<stdout[1,0]<stdout[1,1]<stdout[1,1]<stdout[1,0]<stdout[1,1]<stdout[1,1]<stdout[1,1]<stdout[1,1]<stdout[1,1]<stdout[1,0]<stdout[1,0]<stdout[1,1]<stdout[1,0]<stdout[1,1]<stdout[1,0]<stdout[1,0]<stdout[1,0]<stdout[1,0]<stdout[1,1]<stdout[1,1]<stdout[1,0]<stdout[1,0]<stdout[1,1]<stdout[1,0]<stdout[1,1]<stdout[1,1]<stdout[1,1]<stdout[1,1]<stdout[1,1]<stdout[1,0]<stdout>[1,1]<stdout[1,0]<stdout>[1,0]<stdout>[1,1]<stdout>[1,0]<stdout>[1,1]<stdout>[1,0]<stdout>[1,1]<stdout>[1,1]<stdout>[1,1]<stdout>[1,0]<stdout>[1,1]<stdout>[1,1]<stdout>[1,0]<stdout>[1,0]<stdout>[1,1]<stdout>[1,1]<stdout>[1,0]<stdout>[1,0]<stdout>[1,1]<stdout>[1,0]<stdout>[1,0]<stdout>[1,1]<stdout>[1,1]<stdout>[1,1]<stdout>[1,0]<stdout>[1,0]<stdout>[1,0]<stdout>[1,0]<stdout>[1,0]<stdout>[1,1]<stdout>[1,0]<stdout>[1,1]<stdout>[1,1]<stdout>[1,0]<stdout>[1,0]<stdout>[1,1]<stdout>[1,0]<stdout>[1,1]<stdout>[1,1]<stdout>[1,1]<stdout>[1,1]<stdout>[1,0]<stdout>[1,0]<stdout>[1,1]<stdout>[1,0]<stdout>[1,1]<stdout>[1,1]<stdout>[1,1]<stdout>[1,1]<stdout>[1,0]<stdout>[1,1]<stdout>[1,0]<stdout>[1,1]<stdout>[1,1]<stdout>[1,1]<stdout>[1,0]<stdout>[1,1]<stdout>[1,0]<stdout>[1,0]<stdout>[1,1]<stdout>[1,1]<stdout>[1,0]<stdout>[1,1]<stdout>[1,1]<stdout>[1,1]<stdout>[1,0]<stdout>[1,1]<stdout>[1,1]<stdout>[1,0]<stdout>[1,1]<stdout>[1,1]<stdout>[1,0]<stdout>[1,1]<stdout>[1,0]<stdout>[1,1]<stdout>[1,0]<stdout>[1,0]<stdout>[1,1]<stdout>[1,1]<stdout>[1,1]<stdout>[1,1]<stdout>[1,1]<stdout>[1,0]<stdout>[1,1]<stdout>[1,1]<stdout>[1,1]<stdout>[1,0]<stdout>[1,1]<stdout>[1,0]<stdout>[1,0]<stdout>[1,0]<stdout>[1,1]<stdout>[1,1]<stdout>[1,1]<stdout>[1,1]<stdout>[1,0]<stdout>[1,1]<stdout>[1,0]<stdout>[1,0]<stdout>[1,0]<stdout>[1,1]<stdout>[1,1]<stdout>[1,0]<stdout>[1,1]<stdout>[1,0]<stdout>[1,0]<stdout>[1,0]<stdout>[1,0]<stdout>[1,1]<stdout>[1,0]<stdout>[1,1]<stdout>[1,1]<stdout>[1,0]<stdout>[1,1]<stdout>[1,0]<stdout>[1,0]<stdout>[1,1]<stdout>[1,0]<stdout>[1,1]<stdout>[1,0]<stdout>[1,1]<stdout>[1,1]<stdout>[1,0]<stdout>[1,0]<stdout>[1,0]<stdout>[1,0]<stdout>[1,1]<stdout>[1,0]<stdout>[1,1]<stdout>[1,1]<stdout>[1,0]<stdout>[1,1]<stdout>[1,0]<stdout>[1,1]<stdout>[1,0]<stdout>[1,1]<stdout>[1,1]<stdout>[1,1]<stdout>[1,0]<stdout>[1,0]<stdout>[1,1]<stdout>[1,0]<stdout>[1,1]<stdout>[1,1]<stdout>[1,0]<stdout>[1,1]<stdout>[1,1]<stdout>[1,1]<stdout>[1,0]<stdout>[1,0]<stdout>[1,1]<stdout>[1,1]<stdout>[1,0]<stdout>[1,0]<stdout>\n",
      "[1,1]<stdout>:60000/60000 [==============================] - 21s 347us/step - loss: 0.0409 - acc: 0.9875 - val_loss: 0.0282 - val_acc: 0.9906\n",
      "[1,1]<stdout>:Epoch 4/6\n",
      "[1,0]<stdout>:Epoch 4/6\n",
      "[1,1]<stdout>:60000/60000 [==============================] - 21s 350us/step - loss: 0.0311 - acc: 0.9904 - val_loss: 0.0271 - val_acc: 0.9908===========>.] - ETA: 0s - loss: 0.0346 - acc: 0.9893871,1]<stdout[1,0]<stdout[1,0]<stdout[1,0]<stdout[1,0]<stdout[1,1]<stdout[1,0]<stdout[1,1]<stdout[1,1]<stdout[1,0]<stdout[1,0]<stdout[1,0]<stdout[1,1]<stdout[1,0]<stdout[1,0]<stdout[1,1]<stdout[1,0]<stdout[1,0]<stdout[1,1]<stdout[1,1]<stdout[1,0]<stdout[1,0]<stdout[1,0]<stdout[1,1]<stdout[1,0]<stdout[1,0]<stdout[1,1]<stdout[1,0]<stdout[1,0]<stdout[1,1]<stdout[1,1]<stdout[1,0]<stdout[1,1]<stdout[1,1]<stdout[1,0]<stdout[1,0]<stdout[1,0]<stdout[1,1]<stdout[1,1]<stdout[1,0]<stdout[1,1]<stdout[1,1]<stdout[1,0]<stdout[1,0]<stdout[1,0]<stdout[1,1]<stdout[1,1]<stdout[1,0]<stdout[1,1]<stdout[1,1]<stdout[1,0]<stdout[1,0]<stdout[1,0]<stdout[1,0]<stdout[1,0]<stdout[1,1]<stdout[1,0]<stdout[1,1]<stdout[1,0]<stdout[1,1]<stdout[1,0]<stdout[1,0]<stdout[1,1]<stdout[1,1]<stdout[1,0]<stdout[1,1]<stdout[1,1]<stdout[1,1]<stdout[1,0]<stdout[1,0]<stdout[1,0]<stdout[1,1]<stdout[1,0]<stdout[1,1]<stdout[1,0]<stdout[1,0]<stdout[1,1]<stdout[1,1]<stdout[1,0]<stdout[1,0]<stdout[1,1]<stdout[1,0]<stdout[1,1]<stdout[1,1]<stdout[1,1]<stdout[1,1]<stdout[1,1]<stdout[1,1]<stdout[1,0]<stdout[1,0]<stdout[1,0]<stdout[1,1]<stdout[1,0]<stdout[1,0]<stdout[1,1]<stdout[1,0]<stdout[1,0]<stdout[1,1]<stdout[1,1]<stdout[1,0]<stdout[1,1]<stdout[1,1]<stdout[1,1]<stdout[1,1]<stdout[1,1]<stdout[1,1]<stdout[1,0]<stdout[1,0]<stdout[1,1]<stdout[1,1]<stdout[1,0]<stdout[1,0]<stdout[1,1]<stdout[1,1]<stdout[1,0]<stdout[1,1]<stdout[1,1]<stdout[1,0]<stdout[1,0]<stdout[1,0]<stdout[1,0]<stdout[1,1]<stdout[1,1]<stdout[1,0]<stdout[1,0]<stdout[1,1]<stdout[1,0]<stdout[1,0]<stdout[1,1]<stdout[1,0]<stdout[1,1]<stdout[1,0]<stdout[1,1]<stdout[1,1]<stdout[1,0]<stdout[1,0]<stdout[1,1]<stdout[1,1]<stdout[1,0]<stdout[1,0]<stdout[1,1]<stdout[1,0]<stdout[1,0]<stdout[1,1]<stdout[1,0]<stdout[1,1]<stdout[1,1]<stdout[1,1]<stdout[1,1]<stdout[1,0]<stdout[1,0]<stdout[1,0]<stdout[1,0]<stdout[1,0]<stdout[1,1]<stdout[1,1]<stdout[1,0]<stdout[1,1]<stdout[1,1]<stdout[1,0]<stdout>[1,1]<stdout[1,0]<stdout>[1,1]<stdout>[1,1]<stdout>[1,0]<stdout>[1,0]<stdout>[1,0]<stdout>[1,0]<stdout>[1,0]<stdout>[1,1]<stdout>[1,1]<stdout>[1,0]<stdout>[1,1]<stdout>[1,0]<stdout>[1,0]<stdout>[1,0]<stdout>[1,0]<stdout>[1,1]<stdout>[1,0]<stdout>[1,0]<stdout>[1,0]<stdout>[1,0]<stdout>[1,0]<stdout>[1,1]<stdout>[1,0]<stdout>[1,1]<stdout>[1,0]<stdout>[1,1]<stdout>[1,1]<stdout>[1,1]<stdout>[1,0]<stdout>[1,1]<stdout>[1,0]<stdout>[1,1]<stdout>[1,1]<stdout>[1,0]<stdout>[1,1]<stdout>[1,0]<stdout>[1,0]<stdout>[1,1]<stdout>[1,1]<stdout>[1,0]<stdout>[1,1]<stdout>[1,0]<stdout>[1,0]<stdout>[1,0]<stdout>[1,0]<stdout>[1,1]<stdout>[1,1]<stdout>[1,1]<stdout>[1,1]<stdout>[1,1]<stdout>[1,1]<stdout>[1,1]<stdout>[1,0]<stdout>[1,0]<stdout>[1,0]<stdout>[1,1]<stdout>[1,0]<stdout>[1,0]<stdout>[1,0]<stdout>[1,1]<stdout>[1,1]<stdout>[1,0]<stdout>[1,1]<stdout>[1,0]<stdout>[1,0]<stdout>[1,0]<stdout>[1,0]<stdout>[1,1]<stdout>[1,0]<stdout>[1,1]<stdout>[1,0]<stdout>[1,1]<stdout>[1,1]<stdout>[1,1]<stdout>[1,0]<stdout>[1,1]<stdout>[1,1]<stdout>[1,1]<stdout>[1,0]<stdout>[1,1]<stdout>[1,1]<stdout>[1,1]<stdout>[1,0]<stdout>[1,1]<stdout>[1,0]<stdout>[1,0]<stdout>[1,0]<stdout>[1,0]<stdout>[1,1]<stdout>[1,1]<stdout>[1,0]<stdout>[1,0]<stdout>[1,1]<stdout>[1,1]<stdout>[1,1]<stdout>[1,1]<stdout>[1,1]<stdout>[1,0]<stdout>[1,1]<stdout>[1,1]<stdout>[1,1]<stdout>[1,0]<stdout>[1,1]<stdout>[1,1]<stdout>[1,0]<stdout>[1,0]<stdout>[1,1]<stdout>[1,1]<stdout>[1,1]<stdout>[1,0]<stdout>[1,1]<stdout>[1,0]<stdout>[1,0]<stdout>[1,0]<stdout>[1,1]<stdout>[1,1]<stdout>[1,0]<stdout>[1,0]<stdout>[1,0]<stdout>[1,1]<stdout>[1,1]<stdout>[1,0]<stdout>[1,1]<stdout>[1,1]<stdout>[1,1]<stdout>[1,0]<stdout>[1,1]<stdout>[1,0]<stdout>[1,1]<stdout>[1,0]<stdout>[1,1]<stdout>[1,0]<stdout>[1,1]<stdout>[1,1]<stdout>[1,0]<stdout>[1,1]<stdout>[1,1]<stdout>[1,1]<stdout>[1,0]<stdout>[1,0]<stdout>[1,1]<stdout>[1,1]<stdout>\n",
      "[1,1]<stdout>:Epoch 5/6\n",
      "[1,0]<stdout>:60000/60000 [==============================] - 21s 346us/step - loss: 0.0343 - acc: 0.9894 - val_loss: 0.0271 - val_acc: 0.9908\n",
      "[1,0]<stdout>:Epoch 5/6\n",
      "[1,0]<stdout>:60000/60000 [==============================] - 21s 351us/step - loss: 0.0269 - acc: 0.9910 - val_loss: 0.0269 - val_acc: 0.9917===========>.] - ETA: 0s - loss: 0.0279 - acc: 0.991714[1,1]<stdout[1,1]<stdout[1,1]<stdout[1,1]<stdout[1,1]<stdout[1,1]<stdout[1,0]<stdout[1,1]<stdout[1,0]<stdout[1,1]<stdout[1,1]<stdout[1,1]<stdout[1,0]<stdout[1,0]<stdout[1,0]<stdout[1,1]<stdout[1,1]<stdout[1,1]<stdout[1,0]<stdout[1,1]<stdout[1,0]<stdout[1,0]<stdout[1,1]<stdout[1,1]<stdout[1,1]<stdout[1,0]<stdout[1,1]<stdout[1,1]<stdout[1,0]<stdout[1,1]<stdout[1,0]<stdout[1,0]<stdout[1,1]<stdout[1,0]<stdout[1,1]<stdout[1,0]<stdout[1,1]<stdout[1,1]<stdout[1,0]<stdout[1,1]<stdout[1,1]<stdout[1,0]<stdout[1,1]<stdout[1,1]<stdout[1,0]<stdout[1,1]<stdout[1,0]<stdout[1,0]<stdout[1,0]<stdout[1,1]<stdout[1,0]<stdout[1,0]<stdout[1,1]<stdout[1,1]<stdout[1,0]<stdout[1,1]<stdout[1,1]<stdout[1,1]<stdout[1,1]<stdout[1,0]<stdout[1,0]<stdout[1,0]<stdout[1,1]<stdout[1,1]<stdout[1,0]<stdout[1,0]<stdout[1,0]<stdout[1,1]<stdout[1,1]<stdout[1,0]<stdout[1,1]<stdout[1,0]<stdout[1,0]<stdout[1,1]<stdout[1,0]<stdout[1,1]<stdout[1,0]<stdout[1,0]<stdout[1,1]<stdout[1,1]<stdout[1,0]<stdout[1,0]<stdout[1,0]<stdout[1,0]<stdout[1,0]<stdout[1,0]<stdout[1,0]<stdout[1,1]<stdout[1,1]<stdout[1,0]<stdout[1,1]<stdout[1,1]<stdout[1,0]<stdout[1,0]<stdout[1,1]<stdout[1,0]<stdout[1,1]<stdout[1,0]<stdout[1,1]<stdout[1,1]<stdout[1,0]<stdout[1,0]<stdout[1,0]<stdout[1,0]<stdout[1,1]<stdout[1,1]<stdout[1,0]<stdout[1,1]<stdout[1,1]<stdout[1,0]<stdout[1,0]<stdout[1,0]<stdout[1,1]<stdout[1,1]<stdout[1,0]<stdout[1,0]<stdout[1,1]<stdout[1,1]<stdout[1,0]<stdout[1,0]<stdout[1,0]<stdout[1,0]<stdout[1,0]<stdout[1,0]<stdout[1,0]<stdout[1,0]<stdout[1,1]<stdout[1,0]<stdout[1,0]<stdout[1,0]<stdout[1,0]<stdout[1,1]<stdout[1,0]<stdout[1,0]<stdout[1,1]<stdout[1,1]<stdout[1,0]<stdout[1,0]<stdout[1,1]<stdout[1,1]<stdout[1,0]<stdout[1,0]<stdout[1,1]<stdout[1,1]<stdout[1,0]<stdout[1,1]<stdout[1,1]<stdout[1,1]<stdout[1,0]<stdout[1,1]<stdout[1,1]<stdout[1,1]<stdout[1,1]<stdout[1,1]<stdout[1,0]<stdout>[1,1]<stdout[1,0]<stdout>[1,1]<stdout>[1,0]<stdout>[1,1]<stdout>[1,1]<stdout>[1,0]<stdout>[1,1]<stdout>[1,1]<stdout>[1,1]<stdout>[1,0]<stdout>[1,1]<stdout>[1,1]<stdout>[1,0]<stdout>[1,1]<stdout>[1,0]<stdout>[1,0]<stdout>[1,0]<stdout>[1,0]<stdout>[1,1]<stdout>[1,0]<stdout>[1,1]<stdout>[1,0]<stdout>[1,0]<stdout>[1,0]<stdout>[1,1]<stdout>[1,0]<stdout>[1,0]<stdout>[1,1]<stdout>[1,1]<stdout>[1,0]<stdout>[1,1]<stdout>[1,1]<stdout>[1,0]<stdout>[1,1]<stdout>[1,1]<stdout>[1,1]<stdout>[1,1]<stdout>[1,1]<stdout>[1,1]<stdout>[1,0]<stdout>[1,0]<stdout>[1,1]<stdout>[1,1]<stdout>[1,1]<stdout>[1,0]<stdout>[1,1]<stdout>[1,0]<stdout>[1,0]<stdout>[1,0]<stdout>[1,0]<stdout>[1,1]<stdout>[1,0]<stdout>:41344/60000 [===================>..........] - ETA: 6s - loss: 0.0277 - acc: 0.9908[1,0]<stdout>[1,1]<stdout>[1,0]<stdout>[1,1]<stdout>[1,1]<stdout>[1,1]<stdout>[1,1]<stdout>[1,0]<stdout>[1,0]<stdout>[1,1]<stdout>[1,1]<stdout>[1,1]<stdout>[1,0]<stdout>[1,0]<stdout>[1,0]<stdout>[1,1]<stdout>[1,0]<stdout>[1,1]<stdout>[1,1]<stdout>[1,1]<stdout>[1,0]<stdout>[1,0]<stdout>[1,0]<stdout>[1,0]<stdout>[1,1]<stdout>[1,0]<stdout>[1,0]<stdout>[1,0]<stdout>[1,1]<stdout>[1,0]<stdout>[1,1]<stdout>[1,1]<stdout>[1,0]<stdout>[1,1]<stdout>[1,1]<stdout>[1,0]<stdout>[1,0]<stdout>[1,0]<stdout>[1,1]<stdout>[1,0]<stdout>[1,0]<stdout>[1,0]<stdout>[1,0]<stdout>[1,0]<stdout>[1,1]<stdout>[1,0]<stdout>[1,0]<stdout>[1,1]<stdout>[1,0]<stdout>[1,0]<stdout>[1,0]<stdout>[1,1]<stdout>[1,1]<stdout>[1,1]<stdout>[1,1]<stdout>[1,0]<stdout>[1,1]<stdout>[1,1]<stdout>[1,1]<stdout>[1,1]<stdout>[1,0]<stdout>[1,0]<stdout>[1,1]<stdout>[1,1]<stdout>[1,0]<stdout>[1,1]<stdout>[1,1]<stdout>[1,0]<stdout>[1,1]<stdout>[1,0]<stdout>[1,1]<stdout>[1,1]<stdout>[1,1]<stdout>[1,1]<stdout>[1,0]<stdout>[1,0]<stdout>[1,0]<stdout>[1,1]<stdout>[1,1]<stdout>[1,1]<stdout>[1,1]<stdout>[1,0]<stdout>[1,1]<stdout>[1,0]<stdout>[1,1]<stdout>[1,0]<stdout>[1,1]<stdout>[1,0]<stdout>[1,0]<stdout>[1,0]<stdout>[1,1]<stdout>[1,0]<stdout>[1,0]<stdout>[1,1]<stdout>[1,0]<stdout>[1,0]<stdout>\n",
      "[1,1]<stdout>:60000/60000 [==============================] - 21s 356us/step - loss: 0.0278 - acc: 0.9917 - val_loss: 0.0269 - val_acc: 0.9917\n",
      "[1,1]<stdout>:Epoch 6/6\n",
      "[1,0]<stdout>:Epoch 6/6\n",
      "60000/60000 [==============================] - 21s 351us/step - loss: 0.0225 - acc: 0.9927 - val_loss: 0.0261 - val_acc: 0.9920==========>..] - ETA: 0s - loss: 0.0230 - acc: 0.9926 - acc: 0.992723[1,1]<stdout[1,0]<stdout[1,0]<stdout[1,1]<stdout[1,1]<stdout[1,0]<stdout[1,0]<stdout[1,0]<stdout[1,0]<stdout[1,1]<stdout[1,0]<stdout[1,0]<stdout[1,1]<stdout[1,1]<stdout[1,1]<stdout[1,1]<stdout[1,1]<stdout[1,1]<stdout[1,0]<stdout[1,0]<stdout[1,1]<stdout[1,0]<stdout[1,1]<stdout[1,0]<stdout[1,0]<stdout[1,0]<stdout[1,0]<stdout[1,1]<stdout[1,0]<stdout[1,1]<stdout[1,1]<stdout[1,0]<stdout[1,0]<stdout[1,1]<stdout[1,1]<stdout[1,0]<stdout[1,1]<stdout[1,0]<stdout[1,0]<stdout[1,1]<stdout[1,0]<stdout[1,1]<stdout[1,1]<stdout[1,0]<stdout[1,1]<stdout[1,1]<stdout[1,0]<stdout[1,0]<stdout[1,0]<stdout[1,0]<stdout[1,1]<stdout[1,0]<stdout[1,1]<stdout[1,0]<stdout[1,0]<stdout[1,0]<stdout[1,0]<stdout[1,1]<stdout[1,1]<stdout[1,0]<stdout[1,1]<stdout[1,1]<stdout[1,0]<stdout[1,0]<stdout[1,1]<stdout[1,0]<stdout[1,1]<stdout[1,0]<stdout[1,1]<stdout[1,0]<stdout[1,0]<stdout[1,1]<stdout[1,0]<stdout[1,0]<stdout[1,1]<stdout[1,1]<stdout[1,1]<stdout[1,0]<stdout[1,1]<stdout[1,0]<stdout[1,0]<stdout[1,1]<stdout[1,0]<stdout[1,1]<stdout[1,1]<stdout[1,1]<stdout[1,1]<stdout[1,1]<stdout[1,0]<stdout[1,1]<stdout[1,0]<stdout[1,1]<stdout[1,1]<stdout[1,1]<stdout[1,1]<stdout[1,1]<stdout[1,1]<stdout[1,1]<stdout[1,1]<stdout[1,1]<stdout[1,1]<stdout[1,1]<stdout[1,1]<stdout[1,1]<stdout[1,0]<stdout[1,1]<stdout[1,0]<stdout[1,1]<stdout[1,1]<stdout[1,0]<stdout[1,0]<stdout[1,0]<stdout[1,0]<stdout[1,0]<stdout[1,0]<stdout[1,1]<stdout[1,1]<stdout[1,1]<stdout[1,0]<stdout[1,0]<stdout[1,1]<stdout[1,1]<stdout[1,1]<stdout[1,0]<stdout[1,1]<stdout[1,0]<stdout[1,1]<stdout[1,0]<stdout[1,0]<stdout[1,1]<stdout[1,1]<stdout[1,0]<stdout[1,0]<stdout[1,1]<stdout[1,0]<stdout[1,1]<stdout[1,1]<stdout[1,0]<stdout[1,1]<stdout[1,0]<stdout[1,1]<stdout[1,1]<stdout[1,1]<stdout[1,0]<stdout[1,1]<stdout[1,0]<stdout[1,1]<stdout[1,0]<stdout[1,1]<stdout[1,0]<stdout[1,1]<stdout[1,1]<stdout[1,0]<stdout[1,0]<stdout[1,1]<stdout[1,0]<stdout>[1,1]<stdout[1,1]<stdout[1,1]<stdout>[1,1]<stdout>[1,0]<stdout>[1,1]<stdout>[1,0]<stdout>[1,1]<stdout>[1,1]<stdout>[1,1]<stdout>[1,0]<stdout>[1,0]<stdout>[1,0]<stdout>[1,1]<stdout>[1,1]<stdout>[1,0]<stdout>[1,0]<stdout>[1,1]<stdout>[1,1]<stdout>[1,0]<stdout>[1,0]<stdout>[1,1]<stdout>[1,0]<stdout>[1,0]<stdout>[1,1]<stdout>[1,0]<stdout>[1,1]<stdout>[1,1]<stdout>[1,1]<stdout>[1,1]<stdout>[1,0]<stdout>[1,1]<stdout>[1,1]<stdout>[1,0]<stdout>[1,1]<stdout>[1,1]<stdout>[1,1]<stdout>[1,0]<stdout>[1,1]<stdout>[1,0]<stdout>[1,0]<stdout>[1,0]<stdout>[1,1]<stdout>[1,1]<stdout>[1,0]<stdout>[1,1]<stdout>[1,0]<stdout>[1,0]<stdout>[1,0]<stdout>[1,1]<stdout>[1,1]<stdout>[1,1]<stdout>[1,0]<stdout>[1,0]<stdout>[1,0]<stdout>[1,0]<stdout>[1,1]<stdout>[1,1]<stdout>[1,0]<stdout>[1,0]<stdout>[1,1]<stdout>[1,0]<stdout>[1,1]<stdout>[1,1]<stdout>[1,0]<stdout>[1,1]<stdout>[1,1]<stdout>[1,0]<stdout>[1,1]<stdout>[1,1]<stdout>[1,0]<stdout>[1,1]<stdout>[1,1]<stdout>[1,0]<stdout>[1,1]<stdout>[1,1]<stdout>[1,0]<stdout>[1,1]<stdout>[1,1]<stdout>[1,0]<stdout>[1,0]<stdout>[1,1]<stdout>[1,0]<stdout>[1,1]<stdout>[1,0]<stdout>[1,1]<stdout>[1,1]<stdout>[1,0]<stdout>[1,1]<stdout>[1,0]<stdout>[1,1]<stdout>[1,0]<stdout>[1,1]<stdout>[1,1]<stdout>[1,0]<stdout>[1,1]<stdout>[1,0]<stdout>[1,1]<stdout>[1,1]<stdout>[1,0]<stdout>[1,1]<stdout>[1,0]<stdout>[1,1]<stdout>[1,0]<stdout>[1,0]<stdout>[1,1]<stdout>[1,0]<stdout>[1,1]<stdout>[1,1]<stdout>[1,1]<stdout>[1,0]<stdout>[1,0]<stdout>[1,1]<stdout>[1,0]<stdout>[1,0]<stdout>[1,1]<stdout>[1,1]<stdout>[1,1]<stdout>[1,1]<stdout>[1,1]<stdout>[1,0]<stdout>[1,0]<stdout>[1,1]<stdout>[1,0]<stdout>[1,0]<stdout>[1,0]<stdout>[1,0]<stdout>[1,1]<stdout>[1,0]<stdout>[1,0]<stdout>[1,0]<stdout>[1,1]<stdout>[1,1]<stdout>[1,0]<stdout>[1,1]<stdout>[1,0]<stdout>[1,0]<stdout>[1,1]<stdout>[1,0]<stdout>[1,0]<stdout>[1,1]<stdout>[1,1]<stdout>[1,0]<stdout>[1,0]<stdout>[1,1]<stdout>[1,1]<stdout>[1,0]<stdout>[1,1]<stdout>[1,1]<stdout>[1,0]<stdout>[1,1]<stdout>[1,1]<stdout>[1,0]<stdout>\n",
      "[1,1]<stdout>:60000/60000 [==============================] - 21s 355us/step - loss: 0.0228 - acc: 0.9926 - val_loss: 0.0261 - val_acc: 0.9920\n",
      "[1,1]<stdout>:Test loss: 0.02614048246293187\n",
      "[1,1]<stdout>:Test accuracy: 0.992\n",
      "[1,0]<stdout>:Test loss: 0.02614048246293187\n",
      "[1,0]<stdout>:Test accuracy: 0.992\n"
     ]
    }
   ],
   "source": [
    "# add HOROVOD_TIMELINE=/mnt/share/vol001/timeline.json for traces\n",
    "!LD_LIBRARY_PATH=/usr/lib/:/usr/local/lib/ \\\n",
    "HOROVOD_HIERARCHICAL_ALLREDUCE=1 \\\n",
    "HOROVOD_FUSION_THRESHOLD=134217728 \\\n",
    " /opt/conda/bin/horovodrun -np 2 \\\n",
    "                           -H clusterworker-0:1,clusterworker-1:1 \\\n",
    "                           python3 /mnt/share/vol001/keras_mnist.py\n",
    "            "
   ]
  },
  {
   "cell_type": "code",
   "execution_count": 145,
   "metadata": {},
   "outputs": [
    {
     "name": "stdout",
     "output_type": "stream",
     "text": [
      "139.70471811294556\n"
     ]
    }
   ],
   "source": [
    "end = time.time()\n",
    "print (end-start)"
   ]
  },
  {
   "cell_type": "code",
   "execution_count": 82,
   "metadata": {},
   "outputs": [],
   "source": [
    "### Running with 1 processes through horovod"
   ]
  },
  {
   "cell_type": "code",
   "execution_count": 83,
   "metadata": {},
   "outputs": [],
   "source": [
    "import time\n",
    "start = time.time()"
   ]
  },
  {
   "cell_type": "code",
   "execution_count": 84,
   "metadata": {},
   "outputs": [
    {
     "name": "stdout",
     "output_type": "stream",
     "text": [
      "Filtering local host names.\n",
      "Checking ssh on all remote hosts.\n",
      "SSH was successful into all the remote hosts.\n",
      "Testing interfaces on all the hosts.\n",
      "Launched horovodrun server.\n",
      "Attempted to launch horovod task servers.\n",
      "Waiting for the hosts to acknowledge.\n",
      "Notified all the hosts that the registration is complete.\n",
      "Waiting for hosts to perform host-to-host interface checking.\n",
      "Host-to-host interface checking successful.\n",
      "Interfaces on all the hosts were successfully checked.\n",
      "mpirun --allow-run-as-root --tag-output -np 1 -H clusterworker-0:1 -bind-to none -map-by slot -mca pml ob1 -mca btl ^openib  -mca btl_tcp_if_include eth0,lo -x NCCL_DEBUG=INFO -x NCCL_SOCKET_IFNAME=eth0,lo -x SSHSERVER_PORT -x MINICONDA_VERSION -x SSHSERVER_SERVICE_PORT -x SUDO_GID -x KUBERNETES_PORT -x KUBERNETES_SERVICE_PORT -x MOUNTPOINT -x SSHSERVER_PORT_22_TCP_ADDR -x SSHPUBKEY -x TF_NOTEBOOK_SERVICE_HOST -x LANGUAGE -x USER -x MPICLUSTER_SERVICE_HOST -x MPLBACKEND -x HOSTNAME -x SSHKEY -x SERVER -x SSHSERVER_PORT_22_TCP_PORT -x SHLVL -x XDG_CACHE_HOME -x LD_LIBRARY_PATH -x SSHSERVER_PORT_22_TCP_PROTO -x HOME -x TF_NOTEBOOK_SERVICE_PORT -x TF_NOTEBOOK_PORT -x PAGER -x MPICLUSTER_SERVICE_PORT -x MPICLUSTER_PORT -x STARTCLUSTER -x MPICLUSTER_PORT_9376_TCP_ADDR -x NB_USER -x SSHPRIVKEY -x SSHSERVER_PORT_22_TCP -x SUDO_UID -x MPICLUSTER_PORT_9376_TCP_PORT -x LOGNAME -x MPICLUSTER_PORT_9376_TCP_PROTO -x TF_NOTEBOOK_PORT_8888_TCP_ADDR -x USERNAME -x TERM -x KUBERNETES_PORT_443_TCP_ADDR -x PATH -x TF_NOTEBOOK_PORT_8888_TCP_PORT -x KUBERNETES_PORT_443_TCP_PORT -x TF_NOTEBOOK_PORT_8888_TCP_PROTO -x NB_GID -x KUBERNETES_PORT_443_TCP_PROTO -x MPICLUSTER_PORT_9376_TCP -x LANG -x MPICLUSTER_SERVICE_PORT_NGINX -x DEBIAN_FRONTEND -x SUDO_COMMAND -x SHELL -x SUDO_USER -x TF_NOTEBOOK_PORT_8888_TCP -x KUBERNETES_SERVICE_PORT_HTTPS -x CONDA_DIR -x KUBERNETES_PORT_443_TCP -x SSHSERVER_SERVICE_HOST -x GIT_PAGER -x KUBERNETES_SERVICE_HOST -x LC_ALL -x PWD -x CLICOLOR -x JPY_PARENT_PID -x PYTHONPATH -x NB_UID -x _HOROVOD_SECRET_KEY python3 /mnt/share/vol001/keras_mnist.py\n",
      "bash: warning: setlocale: LC_ALL: cannot change locale (en_US.UTF-8)\n",
      "[1,0]<stderr>:2019-05-28 08:26:14.427425: I tensorflow/core/platform/cpu_feature_guard.cc:141] Your CPU supports instructions that this TensorFlow binary was not compiled to use: AVX2 AVX512F FMA\n",
      "[1,0]<stderr>:2019-05-28 08:26:14.598408: I tensorflow/stream_executor/cuda/cuda_gpu_executor.cc:998] successful NUMA node read from SysFS had negative value (-1), but there must be at least one NUMA node, so returning NUMA node zero\n",
      "[1,0]<stderr>:2019-05-28 08:26:14.598904: I tensorflow/compiler/xla/service/service.cc:150] XLA service 0x4013940 executing computations on platform CUDA. Devices:\n",
      "[1,0]<stderr>:2019-05-28 08:26:14.598926: I tensorflow/compiler/xla/service/service.cc:158]   StreamExecutor device (0): Tesla V100-PCIE-32GB, Compute Capability 7.0\n",
      "[1,0]<stderr>:2019-05-28 08:26:14.601251: I tensorflow/core/platform/profile_utils/cpu_utils.cc:94] CPU Frequency: 2099975000 Hz\n",
      "[1,0]<stderr>:2019-05-28 08:26:14.601688: I tensorflow/compiler/xla/service/service.cc:150] XLA service 0x407c3a0 executing computations on platform Host. Devices:\n",
      "[1,0]<stderr>:2019-05-28 08:26:14.601711: I tensorflow/compiler/xla/service/service.cc:158]   StreamExecutor device (0): <undefined>, <undefined>\n",
      "[1,0]<stderr>:2019-05-28 08:26:14.602090: I tensorflow/core/common_runtime/gpu/gpu_device.cc:1433] Found device 0 with properties: \n",
      "[1,0]<stderr>:name: Tesla V100-PCIE-32GB major: 7 minor: 0 memoryClockRate(GHz): 1.38\n",
      "[1,0]<stderr>:pciBusID: 0000:00:05.0\n",
      "[1,0]<stderr>:totalMemory: 31.72GiB freeMemory: 31.31GiB\n",
      "[1,0]<stderr>:2019-05-28 08:26:14.602109: I tensorflow/core/common_runtime/gpu/gpu_device.cc:1512] Adding visible gpu devices: 0\n",
      "[1,0]<stderr>:2019-05-28 08:26:14.602795: I tensorflow/core/common_runtime/gpu/gpu_device.cc:984] Device interconnect StreamExecutor with strength 1 edge matrix:\n",
      "[1,0]<stderr>:2019-05-28 08:26:14.602811: I tensorflow/core/common_runtime/gpu/gpu_device.cc:990]      0 \n",
      "[1,0]<stderr>:2019-05-28 08:26:14.602818: I tensorflow/core/common_runtime/gpu/gpu_device.cc:1003] 0:   N \n",
      "[1,0]<stderr>:2019-05-28 08:26:14.603137: I tensorflow/core/common_runtime/gpu/gpu_device.cc:1115] Created TensorFlow device (/job:localhost/replica:0/task:0/device:GPU:0 with 30458 MB memory) -> physical GPU (device: 0, name: Tesla V100-PCIE-32GB, pci bus id: 0000:00:05.0, compute capability: 7.0)\n",
      "[1,0]<stdout>:x_train shape: (60000, 28, 28, 1)\n",
      "[1,0]<stdout>:60000 train samples\n",
      "[1,0]<stdout>:10000 test samples\n",
      "[1,0]<stderr>:Using TensorFlow backend.\n",
      "[1,0]<stderr>:WARNING:tensorflow:From /usr/local/lib/python3.6/dist-packages/tensorflow/python/framework/op_def_library.py:263: colocate_with (from tensorflow.python.framework.ops) is deprecated and will be removed in a future version.\n",
      "[1,0]<stderr>:Instructions for updating:\n",
      "[1,0]<stderr>:Colocations handled automatically by placer.\n",
      "[1,0]<stderr>:WARNING:tensorflow:From /usr/local/lib/python3.6/dist-packages/keras/backend/tensorflow_backend.py:3445: calling dropout (from tensorflow.python.ops.nn_ops) with keep_prob is deprecated and will be removed in a future version.\n",
      "[1,0]<stderr>:Instructions for updating:\n",
      "[1,0]<stderr>:Please use `rate` instead of `keep_prob`. Rate should be set to `rate = 1 - keep_prob`.\n",
      "[1,0]<stderr>:WARNING:tensorflow:From /usr/local/lib/python3.6/dist-packages/tensorflow/python/ops/math_ops.py:3066: to_int32 (from tensorflow.python.ops.math_ops) is deprecated and will be removed in a future version.\n",
      "[1,0]<stderr>:Instructions for updating:\n",
      "[1,0]<stderr>:Use tf.cast instead.\n",
      "[1,0]<stdout>:Train on 60000 samples, validate on 10000 samples\n",
      "[1,0]<stdout>:Epoch 1/12\n",
      "[1,0]<stderr>:2019-05-28 08:26:16.286494: I tensorflow/stream_executor/dso_loader.cc:152] successfully opened CUDA library libcublas.so.10.0 locally\n",
      "[1,0]<stdout>:60000/60000 [==============================] - 6s 102us/step - loss: 0.2567 - acc: 0.9216 - val_loss: 0.0630 - val_acc: 0.97910]<stdout[1,0]<stdout[1,0]<stdout[1,0]<stdout[1,0]<stdout[1,0]<stdout[1,0]<stdout[1,0]<stdout[1,0]<stdout[1,0]<stdout[1,0]<stdout[1,0]<stdout[1,0]<stdout>[1,0]<stdout>[1,0]<stdout>[1,0]<stdout>[1,0]<stdout>[1,0]<stdout>[1,0]<stdout>[1,0]<stdout>[1,0]<stdout>[1,0]<stdout>[1,0]<stdout>[1,0]<stdout>[1,0]<stdout>[1,0]<stdout>[1,0]<stdout>[1,0]<stdout>[1,0]<stdout>[1,0]<stdout>[1,0]<stdout>[1,0]<stdout>[1,0]<stdout>[1,0]<stdout>[1,0]<stdout>[1,0]<stdout>[1,0]<stdout>[1,0]<stdout>[1,0]<stdout>[1,0]<stdout>[1,0]<stdout>[1,0]<stdout>[1,0]<stdout>[1,0]<stdout>[1,0]<stdout>[1,0]<stdout>[1,0]<stdout>[1,0]<stdout>[1,0]<stdout>[1,0]<stdout>[1,0]<stdout>[1,0]<stdout>[1,0]<stdout>[1,0]<stdout>[1,0]<stdout>[1,0]<stdout>[1,0]<stdout>[1,0]<stdout>[1,0]<stdout>[1,0]<stdout>[1,0]<stdout>[1,0]<stdout>[1,0]<stdout>[1,0]<stdout>[1,0]<stdout>[1,0]<stdout>[1,0]<stdout>[1,0]<stdout>[1,0]<stdout>[1,0]<stdout>[1,0]<stdout>\n",
      "[1,0]<stdout>:Epoch 2/12\n",
      "[1,0]<stdout>:60000/60000 [==============================] - 5s 76us/step - loss: 0.0908 - acc: 0.9731 - val_loss: 0.0397 - val_acc: 0.98780]<stdout>[1,0]<stdout>[1,0]<stdout>[1,0]<stdout>[1,0]<stdout>[1,0]<stdout>[1,0]<stdout>[1,0]<stdout>[1,0]<stdout>[1,0]<stdout>[1,0]<stdout>[1,0]<stdout>[1,0]<stdout>[1,0]<stdout>[1,0]<stdout>[1,0]<stdout>[1,0]<stdout>[1,0]<stdout>[1,0]<stdout>[1,0]<stdout>[1,0]<stdout>[1,0]<stdout>[1,0]<stdout>[1,0]<stdout>[1,0]<stdout>[1,0]<stdout>[1,0]<stdout>[1,0]<stdout>[1,0]<stdout>[1,0]<stdout>[1,0]<stdout>[1,0]<stdout>[1,0]<stdout>[1,0]<stdout>[1,0]<stdout>[1,0]<stdout>[1,0]<stdout>[1,0]<stdout>[1,0]<stdout>[1,0]<stdout>[1,0]<stdout>[1,0]<stdout>[1,0]<stdout>[1,0]<stdout>[1,0]<stdout>[1,0]<stdout>[1,0]<stdout>[1,0]<stdout>[1,0]<stdout>[1,0]<stdout>[1,0]<stdout>[1,0]<stdout>[1,0]<stdout>[1,0]<stdout>[1,0]<stdout>[1,0]<stdout>[1,0]<stdout>[1,0]<stdout>[1,0]<stdout>[1,0]<stdout>[1,0]<stdout>[1,0]<stdout>[1,0]<stdout>[1,0]<stdout>[1,0]<stdout>[1,0]<stdout>[1,0]<stdout>[1,0]<stdout>[1,0]<stdout>[1,0]<stdout>[1,0]<stdout>[1,0]<stdout>\n",
      "[1,0]<stdout>:Epoch 3/12\n",
      "[1,0]<stdout>:60000/60000 [==============================] - 4s 70us/step - loss: 0.0681 - acc: 0.9797 - val_loss: 0.0345 - val_acc: 0.98860]<stdout>[1,0]<stdout>[1,0]<stdout>[1,0]<stdout>[1,0]<stdout>[1,0]<stdout>[1,0]<stdout>[1,0]<stdout>[1,0]<stdout>[1,0]<stdout>[1,0]<stdout>[1,0]<stdout>[1,0]<stdout>[1,0]<stdout>[1,0]<stdout>[1,0]<stdout>[1,0]<stdout>[1,0]<stdout>[1,0]<stdout>[1,0]<stdout>[1,0]<stdout>[1,0]<stdout>[1,0]<stdout>[1,0]<stdout>[1,0]<stdout>[1,0]<stdout>[1,0]<stdout>[1,0]<stdout>[1,0]<stdout>[1,0]<stdout>[1,0]<stdout>[1,0]<stdout>[1,0]<stdout>[1,0]<stdout>[1,0]<stdout>[1,0]<stdout>[1,0]<stdout>[1,0]<stdout>[1,0]<stdout>[1,0]<stdout>[1,0]<stdout>[1,0]<stdout>[1,0]<stdout>[1,0]<stdout>[1,0]<stdout>[1,0]<stdout>[1,0]<stdout>[1,0]<stdout>[1,0]<stdout>[1,0]<stdout>[1,0]<stdout>[1,0]<stdout>[1,0]<stdout>[1,0]<stdout>[1,0]<stdout>[1,0]<stdout>[1,0]<stdout>[1,0]<stdout>[1,0]<stdout>[1,0]<stdout>[1,0]<stdout>[1,0]<stdout>[1,0]<stdout>[1,0]<stdout>[1,0]<stdout>\n",
      "[1,0]<stdout>:Epoch 4/12\n",
      "[1,0]<stdout>:60000/60000 [==============================] - 5s 79us/step - loss: 0.0559 - acc: 0.9833 - val_loss: 0.0338 - val_acc: 0.98920]<stdout>[1,0]<stdout>[1,0]<stdout>[1,0]<stdout>[1,0]<stdout>[1,0]<stdout>[1,0]<stdout>[1,0]<stdout>[1,0]<stdout>[1,0]<stdout>[1,0]<stdout>[1,0]<stdout>[1,0]<stdout>[1,0]<stdout>[1,0]<stdout>[1,0]<stdout>[1,0]<stdout>[1,0]<stdout>[1,0]<stdout>[1,0]<stdout>[1,0]<stdout>[1,0]<stdout>[1,0]<stdout>[1,0]<stdout>[1,0]<stdout>[1,0]<stdout>[1,0]<stdout>[1,0]<stdout>[1,0]<stdout>[1,0]<stdout>[1,0]<stdout>[1,0]<stdout>[1,0]<stdout>[1,0]<stdout>[1,0]<stdout>[1,0]<stdout>[1,0]<stdout>[1,0]<stdout>[1,0]<stdout>[1,0]<stdout>[1,0]<stdout>[1,0]<stdout>[1,0]<stdout>[1,0]<stdout>[1,0]<stdout>[1,0]<stdout>[1,0]<stdout>[1,0]<stdout>[1,0]<stdout>[1,0]<stdout>[1,0]<stdout>[1,0]<stdout>[1,0]<stdout>[1,0]<stdout>[1,0]<stdout>[1,0]<stdout>[1,0]<stdout>[1,0]<stdout>[1,0]<stdout>[1,0]<stdout>[1,0]<stdout>[1,0]<stdout>[1,0]<stdout>[1,0]<stdout>[1,0]<stdout>[1,0]<stdout>[1,0]<stdout>[1,0]<stdout>[1,0]<stdout>[1,0]<stdout>[1,0]<stdout>[1,0]<stdout>[1,0]<stdout>[1,0]<stdout>[1,0]<stdout>[1,0]<stdout>\n",
      "[1,0]<stdout>:Epoch 5/12\n",
      "[1,0]<stdout>:60000/60000 [==============================] - 5s 78us/step - loss: 0.0483 - acc: 0.9851 - val_loss: 0.0298 - val_acc: 0.99070]<stdout>[1,0]<stdout>[1,0]<stdout>[1,0]<stdout>[1,0]<stdout>[1,0]<stdout>[1,0]<stdout>[1,0]<stdout>[1,0]<stdout>[1,0]<stdout>[1,0]<stdout>[1,0]<stdout>[1,0]<stdout>[1,0]<stdout>[1,0]<stdout>[1,0]<stdout>[1,0]<stdout>[1,0]<stdout>[1,0]<stdout>[1,0]<stdout>[1,0]<stdout>[1,0]<stdout>[1,0]<stdout>[1,0]<stdout>[1,0]<stdout>[1,0]<stdout>[1,0]<stdout>[1,0]<stdout>[1,0]<stdout>[1,0]<stdout>[1,0]<stdout>[1,0]<stdout>[1,0]<stdout>[1,0]<stdout>[1,0]<stdout>[1,0]<stdout>[1,0]<stdout>[1,0]<stdout>[1,0]<stdout>[1,0]<stdout>[1,0]<stdout>[1,0]<stdout>[1,0]<stdout>[1,0]<stdout>[1,0]<stdout>[1,0]<stdout>[1,0]<stdout>[1,0]<stdout>[1,0]<stdout>[1,0]<stdout>[1,0]<stdout>[1,0]<stdout>[1,0]<stdout>[1,0]<stdout>[1,0]<stdout>[1,0]<stdout>[1,0]<stdout>[1,0]<stdout>[1,0]<stdout>[1,0]<stdout>[1,0]<stdout>[1,0]<stdout>[1,0]<stdout>[1,0]<stdout>[1,0]<stdout>[1,0]<stdout>[1,0]<stdout>[1,0]<stdout>[1,0]<stdout>[1,0]<stdout>[1,0]<stdout>[1,0]<stdout>\n",
      "[1,0]<stdout>:Epoch 6/12\n",
      "[1,0]<stdout>:60000/60000 [==============================] - 5s 80us/step - loss: 0.0397 - acc: 0.9877 - val_loss: 0.0318 - val_acc: 0.98930]<stdout>[1,0]<stdout>[1,0]<stdout>[1,0]<stdout>[1,0]<stdout>[1,0]<stdout>[1,0]<stdout>[1,0]<stdout>[1,0]<stdout>[1,0]<stdout>[1,0]<stdout>[1,0]<stdout>[1,0]<stdout>[1,0]<stdout>[1,0]<stdout>[1,0]<stdout>[1,0]<stdout>[1,0]<stdout>[1,0]<stdout>[1,0]<stdout>[1,0]<stdout>[1,0]<stdout>[1,0]<stdout>[1,0]<stdout>[1,0]<stdout>[1,0]<stdout>[1,0]<stdout>[1,0]<stdout>[1,0]<stdout>[1,0]<stdout>[1,0]<stdout>[1,0]<stdout>[1,0]<stdout>[1,0]<stdout>[1,0]<stdout>[1,0]<stdout>[1,0]<stdout>[1,0]<stdout>[1,0]<stdout>[1,0]<stdout>[1,0]<stdout>[1,0]<stdout>[1,0]<stdout>[1,0]<stdout>[1,0]<stdout>[1,0]<stdout>[1,0]<stdout>[1,0]<stdout>[1,0]<stdout>[1,0]<stdout>[1,0]<stdout>[1,0]<stdout>[1,0]<stdout>[1,0]<stdout>[1,0]<stdout>[1,0]<stdout>[1,0]<stdout>[1,0]<stdout>[1,0]<stdout>[1,0]<stdout>[1,0]<stdout>[1,0]<stdout>[1,0]<stdout>[1,0]<stdout>[1,0]<stdout>[1,0]<stdout>[1,0]<stdout>[1,0]<stdout>[1,0]<stdout>[1,0]<stdout>[1,0]<stdout>[1,0]<stdout>[1,0]<stdout>[1,0]<stdout>[1,0]<stdout>[1,0]<stdout>[1,0]<stdout>\n",
      "[1,0]<stdout>:Epoch 7/12\n",
      "[1,0]<stdout>:60000/60000 [==============================] - 4s 72us/step - loss: 0.0381 - acc: 0.9883 - val_loss: 0.0296 - val_acc: 0.99000]<stdout>[1,0]<stdout>[1,0]<stdout>[1,0]<stdout>[1,0]<stdout>[1,0]<stdout>[1,0]<stdout>[1,0]<stdout>[1,0]<stdout>[1,0]<stdout>[1,0]<stdout>[1,0]<stdout>[1,0]<stdout>[1,0]<stdout>[1,0]<stdout>[1,0]<stdout>[1,0]<stdout>[1,0]<stdout>[1,0]<stdout>[1,0]<stdout>[1,0]<stdout>[1,0]<stdout>[1,0]<stdout>[1,0]<stdout>[1,0]<stdout>[1,0]<stdout>[1,0]<stdout>[1,0]<stdout>[1,0]<stdout>[1,0]<stdout>[1,0]<stdout>[1,0]<stdout>[1,0]<stdout>[1,0]<stdout>[1,0]<stdout>[1,0]<stdout>[1,0]<stdout>[1,0]<stdout>[1,0]<stdout>[1,0]<stdout>[1,0]<stdout>[1,0]<stdout>[1,0]<stdout>[1,0]<stdout>[1,0]<stdout>[1,0]<stdout>[1,0]<stdout>[1,0]<stdout>[1,0]<stdout>[1,0]<stdout>[1,0]<stdout>[1,0]<stdout>[1,0]<stdout>[1,0]<stdout>[1,0]<stdout>[1,0]<stdout>[1,0]<stdout>[1,0]<stdout>[1,0]<stdout>[1,0]<stdout>[1,0]<stdout>[1,0]<stdout>[1,0]<stdout>[1,0]<stdout>[1,0]<stdout>[1,0]<stdout>[1,0]<stdout>[1,0]<stdout>[1,0]<stdout>\n",
      "[1,0]<stdout>:Epoch 8/12\n",
      "[1,0]<stdout>:60000/60000 [==============================] - 5s 78us/step - loss: 0.0349 - acc: 0.9890 - val_loss: 0.0279 - val_acc: 0.99060]<stdout>[1,0]<stdout>[1,0]<stdout>[1,0]<stdout>[1,0]<stdout>[1,0]<stdout>[1,0]<stdout>[1,0]<stdout>[1,0]<stdout>[1,0]<stdout>[1,0]<stdout>[1,0]<stdout>[1,0]<stdout>[1,0]<stdout>[1,0]<stdout>[1,0]<stdout>[1,0]<stdout>[1,0]<stdout>[1,0]<stdout>[1,0]<stdout>[1,0]<stdout>[1,0]<stdout>[1,0]<stdout>[1,0]<stdout>[1,0]<stdout>[1,0]<stdout>[1,0]<stdout>[1,0]<stdout>[1,0]<stdout>[1,0]<stdout>[1,0]<stdout>[1,0]<stdout>[1,0]<stdout>[1,0]<stdout>[1,0]<stdout>[1,0]<stdout>[1,0]<stdout>[1,0]<stdout>[1,0]<stdout>[1,0]<stdout>[1,0]<stdout>[1,0]<stdout>[1,0]<stdout>[1,0]<stdout>[1,0]<stdout>[1,0]<stdout>[1,0]<stdout>[1,0]<stdout>[1,0]<stdout>[1,0]<stdout>[1,0]<stdout>[1,0]<stdout>[1,0]<stdout>[1,0]<stdout>[1,0]<stdout>[1,0]<stdout>[1,0]<stdout>[1,0]<stdout>[1,0]<stdout>[1,0]<stdout>[1,0]<stdout>[1,0]<stdout>[1,0]<stdout>[1,0]<stdout>[1,0]<stdout>[1,0]<stdout>[1,0]<stdout>[1,0]<stdout>[1,0]<stdout>[1,0]<stdout>[1,0]<stdout>[1,0]<stdout>[1,0]<stdout>\n",
      "[1,0]<stdout>:Epoch 9/12\n",
      "[1,0]<stdout>:60000/60000 [==============================] - 5s 77us/step - loss: 0.0327 - acc: 0.9903 - val_loss: 0.0271 - val_acc: 0.99100]<stdout>[1,0]<stdout>[1,0]<stdout>[1,0]<stdout>[1,0]<stdout>[1,0]<stdout>[1,0]<stdout>[1,0]<stdout>[1,0]<stdout>[1,0]<stdout>[1,0]<stdout>[1,0]<stdout>[1,0]<stdout>[1,0]<stdout>[1,0]<stdout>[1,0]<stdout>[1,0]<stdout>[1,0]<stdout>[1,0]<stdout>[1,0]<stdout>[1,0]<stdout>[1,0]<stdout>[1,0]<stdout>[1,0]<stdout>[1,0]<stdout>[1,0]<stdout>[1,0]<stdout>[1,0]<stdout>[1,0]<stdout>[1,0]<stdout>[1,0]<stdout>[1,0]<stdout>[1,0]<stdout>[1,0]<stdout>[1,0]<stdout>[1,0]<stdout>[1,0]<stdout>[1,0]<stdout>[1,0]<stdout>[1,0]<stdout>[1,0]<stdout>[1,0]<stdout>[1,0]<stdout>[1,0]<stdout>[1,0]<stdout>[1,0]<stdout>[1,0]<stdout>[1,0]<stdout>[1,0]<stdout>[1,0]<stdout>[1,0]<stdout>[1,0]<stdout>[1,0]<stdout>[1,0]<stdout>[1,0]<stdout>[1,0]<stdout>[1,0]<stdout>[1,0]<stdout>[1,0]<stdout>[1,0]<stdout>[1,0]<stdout>[1,0]<stdout>[1,0]<stdout>[1,0]<stdout>[1,0]<stdout>[1,0]<stdout>[1,0]<stdout>[1,0]<stdout>[1,0]<stdout>[1,0]<stdout>[1,0]<stdout>\n",
      "[1,0]<stdout>:Epoch 10/12\n",
      "[1,0]<stdout>:60000/60000 [==============================] - 4s 74us/step - loss: 0.0303 - acc: 0.9908 - val_loss: 0.0289 - val_acc: 0.99040]<stdout>[1,0]<stdout>[1,0]<stdout>[1,0]<stdout>[1,0]<stdout>[1,0]<stdout>[1,0]<stdout>[1,0]<stdout>[1,0]<stdout>[1,0]<stdout>[1,0]<stdout>[1,0]<stdout>[1,0]<stdout>[1,0]<stdout>[1,0]<stdout>[1,0]<stdout>[1,0]<stdout>[1,0]<stdout>[1,0]<stdout>[1,0]<stdout>[1,0]<stdout>[1,0]<stdout>[1,0]<stdout>[1,0]<stdout>[1,0]<stdout>[1,0]<stdout>[1,0]<stdout>[1,0]<stdout>[1,0]<stdout>[1,0]<stdout>[1,0]<stdout>[1,0]<stdout>[1,0]<stdout>[1,0]<stdout>[1,0]<stdout>[1,0]<stdout>[1,0]<stdout>[1,0]<stdout>[1,0]<stdout>[1,0]<stdout>[1,0]<stdout>[1,0]<stdout>[1,0]<stdout>[1,0]<stdout>[1,0]<stdout>[1,0]<stdout>[1,0]<stdout>[1,0]<stdout>[1,0]<stdout>[1,0]<stdout>[1,0]<stdout>[1,0]<stdout>[1,0]<stdout>[1,0]<stdout>[1,0]<stdout>[1,0]<stdout>[1,0]<stdout>[1,0]<stdout>[1,0]<stdout>[1,0]<stdout>[1,0]<stdout>[1,0]<stdout>[1,0]<stdout>[1,0]<stdout>[1,0]<stdout>[1,0]<stdout>[1,0]<stdout>\n",
      "[1,0]<stdout>:Epoch 11/12\n",
      "[1,0]<stdout>:60000/60000 [==============================] - 5s 76us/step - loss: 0.0283 - acc: 0.9914 - val_loss: 0.0260 - val_acc: 0.99220]<stdout>[1,0]<stdout>[1,0]<stdout>[1,0]<stdout>[1,0]<stdout>[1,0]<stdout>[1,0]<stdout>[1,0]<stdout>[1,0]<stdout>[1,0]<stdout>[1,0]<stdout>[1,0]<stdout>[1,0]<stdout>[1,0]<stdout>[1,0]<stdout>[1,0]<stdout>[1,0]<stdout>[1,0]<stdout>[1,0]<stdout>[1,0]<stdout>[1,0]<stdout>[1,0]<stdout>[1,0]<stdout>[1,0]<stdout>[1,0]<stdout>[1,0]<stdout>[1,0]<stdout>[1,0]<stdout>[1,0]<stdout>[1,0]<stdout>[1,0]<stdout>[1,0]<stdout>[1,0]<stdout>[1,0]<stdout>[1,0]<stdout>[1,0]<stdout>[1,0]<stdout>[1,0]<stdout>[1,0]<stdout>[1,0]<stdout>[1,0]<stdout>[1,0]<stdout>[1,0]<stdout>[1,0]<stdout>[1,0]<stdout>[1,0]<stdout>[1,0]<stdout>[1,0]<stdout>[1,0]<stdout>[1,0]<stdout>[1,0]<stdout>[1,0]<stdout>[1,0]<stdout>[1,0]<stdout>[1,0]<stdout>[1,0]<stdout>[1,0]<stdout>[1,0]<stdout>[1,0]<stdout>[1,0]<stdout>[1,0]<stdout>[1,0]<stdout>[1,0]<stdout>[1,0]<stdout>[1,0]<stdout>[1,0]<stdout>[1,0]<stdout>[1,0]<stdout>[1,0]<stdout>[1,0]<stdout>[1,0]<stdout>[1,0]<stdout>[1,0]<stdout>[1,0]<stdout>\n",
      "[1,0]<stdout>:Epoch 12/12\n",
      "[1,0]<stdout>:60000/60000 [==============================] - 5s 79us/step - loss: 0.0268 - acc: 0.9915 - val_loss: 0.0272 - val_acc: 0.99160]<stdout>[1,0]<stdout>[1,0]<stdout>[1,0]<stdout>[1,0]<stdout>[1,0]<stdout>[1,0]<stdout>[1,0]<stdout>[1,0]<stdout>[1,0]<stdout>[1,0]<stdout>[1,0]<stdout>[1,0]<stdout>[1,0]<stdout>[1,0]<stdout>[1,0]<stdout>[1,0]<stdout>[1,0]<stdout>[1,0]<stdout>[1,0]<stdout>[1,0]<stdout>[1,0]<stdout>[1,0]<stdout>[1,0]<stdout>[1,0]<stdout>[1,0]<stdout>[1,0]<stdout>[1,0]<stdout>[1,0]<stdout>[1,0]<stdout>[1,0]<stdout>[1,0]<stdout>[1,0]<stdout>[1,0]<stdout>[1,0]<stdout>[1,0]<stdout>[1,0]<stdout>[1,0]<stdout>[1,0]<stdout>[1,0]<stdout>[1,0]<stdout>[1,0]<stdout>[1,0]<stdout>[1,0]<stdout>[1,0]<stdout>[1,0]<stdout>[1,0]<stdout>[1,0]<stdout>[1,0]<stdout>[1,0]<stdout>[1,0]<stdout>[1,0]<stdout>[1,0]<stdout>[1,0]<stdout>[1,0]<stdout>[1,0]<stdout>[1,0]<stdout>[1,0]<stdout>[1,0]<stdout>[1,0]<stdout>[1,0]<stdout>[1,0]<stdout>[1,0]<stdout>[1,0]<stdout>[1,0]<stdout>[1,0]<stdout>[1,0]<stdout>[1,0]<stdout>[1,0]<stdout>[1,0]<stdout>[1,0]<stdout>[1,0]<stdout>[1,0]<stdout>[1,0]<stdout>[1,0]<stdout>[1,0]<stdout>\n",
      "[1,0]<stdout>:Test loss: 0.02720353925818072\n",
      "[1,0]<stdout>:Test accuracy: 0.9916\n"
     ]
    }
   ],
   "source": [
    "!LD_LIBRARY_PATH=/usr/lib/:/usr/local/lib/ \\\n",
    "    /opt/conda/bin/horovodrun --verbose -np 1 \\\n",
    "    -H clusterworker-0:1 \\\n",
    "    python3 /mnt/share/vol001/keras_mnist.py\n",
    "        \n",
    "        \n",
    "        \n",
    "        "
   ]
  },
  {
   "cell_type": "code",
   "execution_count": 85,
   "metadata": {},
   "outputs": [
    {
     "name": "stdout",
     "output_type": "stream",
     "text": [
      "64.84776735305786\n"
     ]
    }
   ],
   "source": [
    "end = time.time()\n",
    "print (end-start)"
   ]
  },
  {
   "cell_type": "code",
   "execution_count": 86,
   "metadata": {},
   "outputs": [],
   "source": [
    "### Running with 2 processes through mpirun\n"
   ]
  },
  {
   "cell_type": "code",
   "execution_count": 174,
   "metadata": {},
   "outputs": [],
   "source": [
    "import time\n",
    "start = time.time()"
   ]
  },
  {
   "cell_type": "code",
   "execution_count": 175,
   "metadata": {},
   "outputs": [
    {
     "name": "stdout",
     "output_type": "stream",
     "text": [
      "bash: warning: setlocale: LC_ALL: cannot change locale (en_US.UTF-8)\n",
      "bash: warning: setlocale: LC_ALL: cannot change locale (en_US.UTF-8)\n",
      "2019-05-28 10:48:28.510767: I tensorflow/core/platform/cpu_feature_guard.cc:141] Your CPU supports instructions that this TensorFlow binary was not compiled to use: AVX2 AVX512F FMA\n",
      "2019-05-28 10:48:28.510626: I tensorflow/core/platform/cpu_feature_guard.cc:141] Your CPU supports instructions that this TensorFlow binary was not compiled to use: AVX2 AVX512F FMA\n",
      "2019-05-28 10:48:28.653787: I tensorflow/stream_executor/cuda/cuda_gpu_executor.cc:998] successful NUMA node read from SysFS had negative value (-1), but there must be at least one NUMA node, so returning NUMA node zero\n",
      "2019-05-28 10:48:28.654236: I tensorflow/compiler/xla/service/service.cc:150] XLA service 0x44a69a0 executing computations on platform CUDA. Devices:\n",
      "2019-05-28 10:48:28.654254: I tensorflow/compiler/xla/service/service.cc:158]   StreamExecutor device (0): Tesla V100-PCIE-32GB, Compute Capability 7.0\n",
      "2019-05-28 10:48:28.656149: I tensorflow/core/platform/profile_utils/cpu_utils.cc:94] CPU Frequency: 2099975000 Hz\n",
      "2019-05-28 10:48:28.656238: I tensorflow/compiler/xla/service/service.cc:150] XLA service 0x45133f0 executing computations on platform Host. Devices:\n",
      "2019-05-28 10:48:28.656248: I tensorflow/compiler/xla/service/service.cc:158]   StreamExecutor device (0): <undefined>, <undefined>\n",
      "2019-05-28 10:48:28.656580: I tensorflow/core/common_runtime/gpu/gpu_device.cc:1433] Found device 0 with properties: \n",
      "name: Tesla V100-PCIE-32GB major: 7 minor: 0 memoryClockRate(GHz): 1.38\n",
      "pciBusID: 0000:00:05.0\n",
      "totalMemory: 31.72GiB freeMemory: 31.31GiB\n",
      "2019-05-28 10:48:28.656594: I tensorflow/core/common_runtime/gpu/gpu_device.cc:1512] Adding visible gpu devices: 0\n",
      "2019-05-28 10:48:28.657259: I tensorflow/core/common_runtime/gpu/gpu_device.cc:984] Device interconnect StreamExecutor with strength 1 edge matrix:\n",
      "2019-05-28 10:48:28.657281: I tensorflow/core/common_runtime/gpu/gpu_device.cc:990]      0 \n",
      "2019-05-28 10:48:28.657287: I tensorflow/core/common_runtime/gpu/gpu_device.cc:1003] 0:   N \n",
      "2019-05-28 10:48:28.657567: I tensorflow/core/common_runtime/gpu/gpu_device.cc:1115] Created TensorFlow device (/job:localhost/replica:0/task:0/device:GPU:0 with 30458 MB memory) -> physical GPU (device: 0, name: Tesla V100-PCIE-32GB, pci bus id: 0000:00:05.0, compute capability: 7.0)\n",
      "2019-05-28 10:48:28.678637: I tensorflow/stream_executor/cuda/cuda_gpu_executor.cc:998] successful NUMA node read from SysFS had negative value (-1), but there must be at least one NUMA node, so returning NUMA node zero\n",
      "2019-05-28 10:48:28.679131: I tensorflow/compiler/xla/service/service.cc:150] XLA service 0x53db9a0 executing computations on platform CUDA. Devices:\n",
      "2019-05-28 10:48:28.679147: I tensorflow/compiler/xla/service/service.cc:158]   StreamExecutor device (0): Tesla V100-PCIE-32GB, Compute Capability 7.0\n",
      "2019-05-28 10:48:28.681185: I tensorflow/core/platform/profile_utils/cpu_utils.cc:94] CPU Frequency: 2099975000 Hz\n",
      "2019-05-28 10:48:28.681281: I tensorflow/compiler/xla/service/service.cc:150] XLA service 0x54483f0 executing computations on platform Host. Devices:\n",
      "2019-05-28 10:48:28.681292: I tensorflow/compiler/xla/service/service.cc:158]   StreamExecutor device (0): <undefined>, <undefined>\n",
      "2019-05-28 10:48:28.681638: I tensorflow/core/common_runtime/gpu/gpu_device.cc:1433] Found device 0 with properties: \n",
      "name: Tesla V100-PCIE-32GB major: 7 minor: 0 memoryClockRate(GHz): 1.38\n",
      "pciBusID: 0000:00:05.0\n",
      "totalMemory: 31.72GiB freeMemory: 31.31GiB\n",
      "2019-05-28 10:48:28.681663: I tensorflow/core/common_runtime/gpu/gpu_device.cc:1512] Adding visible gpu devices: 0\n",
      "2019-05-28 10:48:28.682317: I tensorflow/core/common_runtime/gpu/gpu_device.cc:984] Device interconnect StreamExecutor with strength 1 edge matrix:\n",
      "2019-05-28 10:48:28.682331: I tensorflow/core/common_runtime/gpu/gpu_device.cc:990]      0 \n",
      "2019-05-28 10:48:28.682338: I tensorflow/core/common_runtime/gpu/gpu_device.cc:1003] 0:   N \n",
      "2019-05-28 10:48:28.682656: I tensorflow/core/common_runtime/gpu/gpu_device.cc:1115] Created TensorFlow device (/job:localhost/replica:0/task:0/device:GPU:0 with 30458 MB memory) -> physical GPU (device: 0, name: Tesla V100-PCIE-32GB, pci bus id: 0000:00:05.0, compute capability: 7.0)\n",
      "x_train shape: (60000, 28, 28, 1)\n",
      "60000 train samples\n",
      "10000 test samples\n",
      "Using TensorFlow backend.\n",
      "WARNING:tensorflow:From /usr/local/lib/python3.6/dist-packages/tensorflow/python/framework/op_def_library.py:263: colocate_with (from tensorflow.python.framework.ops) is deprecated and will be removed in a future version.\n",
      "Instructions for updating:\n",
      "Colocations handled automatically by placer.\n",
      "WARNING:tensorflow:From /usr/local/lib/python3.6/dist-packages/keras/backend/tensorflow_backend.py:3445: calling dropout (from tensorflow.python.ops.nn_ops) with keep_prob is deprecated and will be removed in a future version.\n",
      "Instructions for updating:\n",
      "Please use `rate` instead of `keep_prob`. Rate should be set to `rate = 1 - keep_prob`.\n",
      "x_train shape: (60000, 28, 28, 1)\n",
      "60000 train samples\n",
      "10000 test samples\n",
      "Using TensorFlow backend.\n",
      "WARNING:tensorflow:From /usr/local/lib/python3.6/dist-packages/tensorflow/python/framework/op_def_library.py:263: colocate_with (from tensorflow.python.framework.ops) is deprecated and will be removed in a future version.\n",
      "Instructions for updating:\n",
      "Colocations handled automatically by placer.\n",
      "WARNING:tensorflow:From /usr/local/lib/python3.6/dist-packages/keras/backend/tensorflow_backend.py:3445: calling dropout (from tensorflow.python.ops.nn_ops) with keep_prob is deprecated and will be removed in a future version.\n",
      "Instructions for updating:\n",
      "Please use `rate` instead of `keep_prob`. Rate should be set to `rate = 1 - keep_prob`.\n",
      "WARNING:tensorflow:From /usr/local/lib/python3.6/dist-packages/tensorflow/python/ops/math_ops.py:3066: to_int32 (from tensorflow.python.ops.math_ops) is deprecated and will be removed in a future version.\n",
      "Instructions for updating:\n",
      "Use tf.cast instead.\n",
      "WARNING:tensorflow:From /usr/local/lib/python3.6/dist-packages/horovod/tensorflow/__init__.py:81: div (from tensorflow.python.ops.math_ops) is deprecated and will be removed in a future version.\n",
      "Instructions for updating:\n",
      "Deprecated in favor of operator or tf.math.divide.\n",
      "WARNING:tensorflow:From /usr/local/lib/python3.6/dist-packages/tensorflow/python/ops/math_ops.py:3066: to_int32 (from tensorflow.python.ops.math_ops) is deprecated and will be removed in a future version.\n",
      "Instructions for updating:\n",
      "Use tf.cast instead.\n",
      "Train on 60000 samples, validate on 10000 samples\n",
      "WARNING:tensorflow:From /usr/local/lib/python3.6/dist-packages/horovod/tensorflow/__init__.py:81: div (from tensorflow.python.ops.math_ops) is deprecated and will be removed in a future version.\n",
      "Instructions for updating:\n",
      "Deprecated in favor of operator or tf.math.divide.\n",
      "Train on 60000 samples, validate on 10000 samples\n",
      "Epoch 1/6\n",
      "Epoch 1/6\n",
      "2019-05-28 10:48:31.122506: I tensorflow/stream_executor/dso_loader.cc:152] successfully opened CUDA library libcublas.so.10.0 locally\n",
      "2019-05-28 10:48:31.158186: I tensorflow/stream_executor/dso_loader.cc:152] successfully opened CUDA library libcublas.so.10.0 locally\n",
      "60000/60000 [==============================] - 19s 315us/step - loss: 0.2038 - acc: 0.9388 - val_loss: 0.0441 - val_acc: 0.9855 - ETA: 0s - loss: 0.2070 - acc: 0.\n",
      "60000/60000 [==============================] - 19s 316us/step - loss: 0.2045 - acc: 0.9376 - val_loss: 0.0441 - val_acc: 0.9855\n",
      "Epoch 2/6\n",
      "Epoch 2/6\n",
      "60000/60000 [==============================] - 15s 248us/step - loss: 0.0652 - acc: 0.9809 - val_loss: 0.0343 - val_acc: 0.9886 - ETA: 0s - loss: 0.0647 - acc\n",
      "60000/60000 [==============================] - 15s 253us/step - loss: 0.0644 - acc: 0.9806 - val_loss: 0.0343 - val_acc: 0.9886\n",
      "Epoch 3/6\n",
      "Epoch 3/6\n",
      "60000/60000 [==============================] - 15s 245us/step - loss: 0.0463 - acc: 0.9865 - val_loss: 0.0307 - val_acc: 0.9893\n",
      "60000/60000 [==============================] - 15s 250us/step - loss: 0.0458 - acc: 0.9861 - val_loss: 0.0307 - val_acc: 0.9893\n",
      "Epoch 4/6\n",
      "Epoch 4/6\n",
      "60000/60000 [==============================] - 15s 252us/step - loss: 0.0350 - acc: 0.9888 - val_loss: 0.0317 - val_acc: 0.9902 - ETA: 0s - loss: 0.0345 - acc: 0.989\n",
      "60000/60000 [==============================] - 15s 256us/step - loss: 0.0345 - acc: 0.9890 - val_loss: 0.0317 - val_acc: 0.9902\n",
      "Epoch 5/6\n",
      "Epoch 5/6\n",
      "60000/60000 [==============================] - 15s 257us/step - loss: 0.0294 - acc: 0.9908 - val_loss: 0.0279 - val_acc: 0.9916 - ETA: 0s - loss: 0.0285 - acc: 0.991\n",
      "Epoch 6/6\n",
      "60000/60000 [==============================] - 15s 255us/step - loss: 0.0285 - acc: 0.9913 - val_loss: 0.0279 - val_acc: 0.9916\n",
      "Epoch 6/6\n",
      "60000/60000 [==============================] - 15s 256us/step - loss: 0.0250 - acc: 0.9921 - val_loss: 0.0282 - val_acc: 0.9916 - ETA: 0s - loss: 0.0251 - acc: 0\n",
      "60000/60000 [==============================] - 15s 253us/step - loss: 0.0246 - acc: 0.9918 - val_loss: 0.0282 - val_acc: 0.9916\n",
      "Test loss: 0.028203419483040035\n",
      "Test accuracy: 0.9916\n",
      "Test loss: 0.028203419483040035\n",
      "Test accuracy: 0.9916\n"
     ]
    }
   ],
   "source": [
    "!LD_LIBRARY_PATH=/usr/lib/:/usr/local/lib/ HOROVOD_CYCLE_TIME=5 HOROVOD_FUSION_THRESHOLD=134217728 mpiexec -np 2 \\\n",
    "-H clusterworker-0:1,clusterworker-1:1 \\\n",
    "--mca btl_tcp_rcvbuf 0 --mca btl_tcp_sndbuf 0 \\\n",
    "--mca btl ^openib \\\n",
    "-x HOROVOD_FUSION_THRESHOLD -x HOROVOD_CYCLE_TIME \\\n",
    "--map-by socket \\\n",
    "-x LD_LIBRARY_PATH -x PATH \\\n",
    "python3 /mnt/share/vol001/keras_mnist.py\n",
    "        \n",
    "#   -mca pml ob1 \\\n",
    "#   -mca btl ^openib \\\n",
    "#   -bind-to none \\\n",
    "#   -map-by slot \\\n",
    "#   -x NCCL_SOCKET_IFNAME=^docker0 \\\n",
    "#   -x NCCL_DEBUG=INFO \\        \n",
    "        \n",
    "        "
   ]
  },
  {
   "cell_type": "code",
   "execution_count": 176,
   "metadata": {},
   "outputs": [
    {
     "name": "stdout",
     "output_type": "stream",
     "text": [
      "100.8767318725586\n"
     ]
    }
   ],
   "source": [
    "end = time.time()\n",
    "print (end-start)"
   ]
  },
  {
   "cell_type": "code",
   "execution_count": 103,
   "metadata": {},
   "outputs": [
    {
     "name": "stdout",
     "output_type": "stream",
     "text": [
      "bash: warning: setlocale: LC_ALL: cannot change locale (en_US.UTF-8)\n",
      "bash: warning: setlocale: LC_ALL: cannot change locale (en_US.UTF-8)\n",
      "Hello world, I am process number: 0 on host clusterworker-0\n",
      "Hello world, I am process number: 2 on host clusterworker-1\n",
      "Hello world, I am process number: 1 on host clusterworker-0\n"
     ]
    }
   ],
   "source": [
    "!LD_LIBRARY_PATH=/usr/lib/:/usr/local/lib/ mpiexec -np 3 \\\n",
    "--allow-run-as-root \\\n",
    "--hostfile /mnt/share/vol001/hostfile /mnt/share/vol001/mpi41test\n",
    "    \n",
    "    \n",
    "    "
   ]
  },
  {
   "cell_type": "code",
   "execution_count": 113,
   "metadata": {},
   "outputs": [
    {
     "name": "stdout",
     "output_type": "stream",
     "text": [
      "bash: warning: setlocale: LC_ALL: cannot change locale (en_US.UTF-8)\n",
      "bash: warning: setlocale: LC_ALL: cannot change locale (en_US.UTF-8)\n",
      "[0] running in clusterworker-0\n",
      "[2] running in clusterworker-1\n",
      "[1] running in clusterworker-0\n",
      "The mean time between 0 and 1 is 0.000001 msize=0 iterations=100\n",
      "The mean time between 0 and 2 is 0.000104 msize=0 iterations=100\n"
     ]
    }
   ],
   "source": [
    "!LD_LIBRARY_PATH=/usr/lib/:/usr/local/lib/ mpiexec -np 3 \\\n",
    "--allow-run-as-root \\\n",
    "--hostfile /mnt/share/vol001/hostfile /mnt/share/vol001/pingpong\n",
    "    "
   ]
  },
  {
   "cell_type": "code",
   "execution_count": 130,
   "metadata": {},
   "outputs": [
    {
     "name": "stdout",
     "output_type": "stream",
     "text": [
      "bash: warning: setlocale: LC_ALL: cannot change locale (en_US.UTF-8)\n",
      "bash: warning: setlocale: LC_ALL: cannot change locale (en_US.UTF-8)\n",
      "[1] running in clusterworker-1\n",
      "[0] running in clusterworker-0\n",
      "The mean time between 0 and 1 is 0.000102 msize=0 iterations=100\n",
      "bash: warning: setlocale: LC_ALL: cannot change locale (en_US.UTF-8)\n",
      "bash: warning: setlocale: LC_ALL: cannot change locale (en_US.UTF-8)\n",
      "[1] running in clusterworker-1\n",
      "[0] running in clusterworker-0\n",
      "The mean time between 0 and 1 is 0.000138 msize=10240 iterations=100\n"
     ]
    }
   ],
   "source": [
    "!LD_LIBRARY_PATH=/usr/lib/:/usr/local/lib/ mpiexec -np 2 \\\n",
    "--allow-run-as-root \\\n",
    "-H clusterworker-0,clusterworker-1 \\\n",
    "--hostfile /mnt/share/vol001/hostfile /mnt/share/vol001/pingpong 0    \n",
    "    \n",
    "!LD_LIBRARY_PATH=/usr/lib/:/usr/local/lib/ mpiexec -np 2 \\\n",
    "--allow-run-as-root \\\n",
    "-H clusterworker-0,clusterworker-1 \\\n",
    "--hostfile /mnt/share/vol001/hostfile /mnt/share/vol001/pingpong 10240   "
   ]
  },
  {
   "cell_type": "code",
   "execution_count": null,
   "metadata": {},
   "outputs": [],
   "source": []
  },
  {
   "cell_type": "code",
   "execution_count": null,
   "metadata": {},
   "outputs": [],
   "source": []
  }
 ],
 "metadata": {
  "kernelspec": {
   "display_name": "Python 3",
   "language": "python",
   "name": "python3"
  },
  "language_info": {
   "codemirror_mode": {
    "name": "ipython",
    "version": 3
   },
   "file_extension": ".py",
   "mimetype": "text/x-python",
   "name": "python",
   "nbconvert_exporter": "python",
   "pygments_lexer": "ipython3",
   "version": "3.6.7"
  }
 },
 "nbformat": 4,
 "nbformat_minor": 2
}
