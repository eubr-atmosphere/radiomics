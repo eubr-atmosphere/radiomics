{
 "cells": [
  {
   "cell_type": "code",
   "execution_count": null,
   "metadata": {},
   "outputs": [],
   "source": [
    "!cat /mnt/share/vol001/views_classification/classify_views.py"
   ]
  },
  {
   "cell_type": "code",
   "execution_count": null,
   "metadata": {},
   "outputs": [],
   "source": [
    "import time\n",
    "start = time.time()\n",
    "!LD_LIBRARY_PATH=/usr/lib/:/usr/local/lib/ \\\n",
    "HOROVOD_HIERARCHICAL_ALLREDUCE=1 \\\n",
    "HOROVOD_FUSION_THRESHOLD=134217728 \\\n",
    " /opt/conda/bin/horovodrun -np 1 \\\n",
    "                           -H clusterworker-0:1 \\\n",
    "                           python3 /mnt/share/vol001/views_classification/classify_views.py\n",
    "end = time.time()\n",
    "print (end-start)"
   ]
  },
  {
   "cell_type": "code",
   "execution_count": null,
   "metadata": {},
   "outputs": [],
   "source": [
    "import time\n",
    "start = time.time()\n",
    "!LD_LIBRARY_PATH=/usr/lib/:/usr/local/lib/ \\\n",
    "HOROVOD_HIERARCHICAL_ALLREDUCE=1 \\\n",
    "HOROVOD_FUSION_THRESHOLD=134217728 \\\n",
    " /opt/conda/bin/horovodrun -np 2 \\\n",
    "                           -H clusterworker-0:1,clusterworker-1:1 \\\n",
    "                           python3 /mnt/share/vol001/views_classification/classify_views.py\n",
    "end = time.time()\n",
    "print (end-start)"
   ]
  }
 ],
 "metadata": {
  "kernelspec": {
   "display_name": "Python 3",
   "language": "python",
   "name": "python3"
  },
  "language_info": {
   "codemirror_mode": {
    "name": "ipython",
    "version": 3
   },
   "file_extension": ".py",
   "mimetype": "text/x-python",
   "name": "python",
   "nbconvert_exporter": "python",
   "pygments_lexer": "ipython3",
   "version": "3.6.7"
  }
 },
 "nbformat": 4,
 "nbformat_minor": 2
}
